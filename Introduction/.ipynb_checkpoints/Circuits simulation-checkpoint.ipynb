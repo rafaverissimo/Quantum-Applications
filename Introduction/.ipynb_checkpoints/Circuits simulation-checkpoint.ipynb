{
 "cells": [
  {
   "cell_type": "code",
   "execution_count": 2,
   "metadata": {},
   "outputs": [],
   "source": [
    "from qiskit import *\n",
    "import qiskit.tools.jupyter"
   ]
  },
  {
   "cell_type": "markdown",
   "metadata": {},
   "source": [
    "# What do we want to simulate?\n",
    "### Generally there are three things we might want from a circuit simulation\n",
    "\n",
    "- Counts: measurement outcomes from an experiment\n",
    "- Quantum State: the output state of the circuit acting on an intial state\n",
    "- Quantum Operator: a representation of the circuit itself as an operator"
   ]
  },
  {
   "cell_type": "code",
   "execution_count": 3,
   "metadata": {},
   "outputs": [],
   "source": [
    "import qiskit\n",
    "from qiskit import QuantumCircuit\n",
    "from qiskit.visualization import plot_histogram, plot_state_city\n",
    "import qiskit.quantum_info as qi\n",
    "\n",
    "import numpy as np\n",
    "\n",
    "def ghz_circuit(num_qubits):\n",
    "    \"\"\"Return an N-qubit GHZ preparation circuit.\"\"\"\n",
    "    circ = QuantumCircuit(num_qubits)\n",
    "    circ.h(0)\n",
    "    for j in range(1, num_qubits):\n",
    "        circ.cx(0, j)\n",
    "    return circ"
   ]
  },
  {
   "cell_type": "code",
   "execution_count": 4,
   "metadata": {},
   "outputs": [
    {
     "data": {
      "image/png": "[encoded data removed]",
      "text/plain": [
       "<Figure size 479.192x325.08 with 1 Axes>"
      ]
     },
     "execution_count": 4,
     "metadata": {},
     "output_type": "execute_result"
    }
   ],
   "source": [
    "ghz_circuit(5).draw(\"mpl\")"
   ]
  },
  {
   "cell_type": "markdown",
   "metadata": {},
   "source": [
    "# Qiskit quantum_info module\n",
    "\n",
    "The qiskit.quantum_info module contains classes and functions for working with quantum states and quantum operators.\n",
    "\n",
    "In particular it can be used to simulate:\n",
    "\n",
    "- The output quantum state of quantum circuits.\n",
    "- The quantum operator corresponding to a quantum circuit."
   ]
  },
  {
   "cell_type": "markdown",
   "metadata": {},
   "source": [
    "## 1. Statevector Class"
   ]
  },
  {
   "cell_type": "code",
   "execution_count": 5,
   "metadata": {},
   "outputs": [
    {
     "data": {
      "text/plain": [
       "Statevector([0.70710678+0.j, 0.        +0.j, 0.        +0.j,\n",
       "             0.        +0.j, 0.        +0.j, 0.        +0.j,\n",
       "             0.        +0.j, 0.70710678+0.j],\n",
       "            dims=(2, 2, 2))"
      ]
     },
     "execution_count": 5,
     "metadata": {},
     "output_type": "execute_result"
    }
   ],
   "source": [
    "qi.Statevector.from_instruction(ghz_circuit(3))"
   ]
  },
  {
   "cell_type": "code",
   "execution_count": 6,
   "metadata": {},
   "outputs": [
    {
     "data": {
      "text/plain": [
       "array([0.70710678+0.j, 0.        +0.j, 0.        +0.j, 0.        +0.j,\n",
       "       0.        +0.j, 0.        +0.j, 0.        +0.j, 0.70710678+0.j])"
      ]
     },
     "execution_count": 6,
     "metadata": {},
     "output_type": "execute_result"
    }
   ],
   "source": [
    "qi.Statevector.from_instruction(ghz_circuit(3)).data"
   ]
  },
  {
   "cell_type": "code",
   "execution_count": 7,
   "metadata": {},
   "outputs": [
    {
     "data": {
      "text/plain": [
       "Statevector([0.70710678+0.j, 0.        +0.j, 0.        +0.j,\n",
       "             0.        +0.j, 0.        +0.j, 0.        +0.j,\n",
       "             0.        +0.j, 0.70710678+0.j],\n",
       "            dims=(2, 2, 2))"
      ]
     },
     "execution_count": 7,
     "metadata": {},
     "output_type": "execute_result"
    }
   ],
   "source": [
    "## Different initial state\n",
    "state= qi.Statevector(np.array([1,0,0,0,0,0,0,1]))/np.sqrt(2)\n",
    "state"
   ]
  },
  {
   "cell_type": "code",
   "execution_count": 8,
   "metadata": {},
   "outputs": [
    {
     "data": {
      "text/plain": [
       "Statevector([ 0.5+0.j, -0.5+0.j,  0. +0.j,  0. +0.j,  0. +0.j,  0. +0.j,\n",
       "              0.5+0.j,  0.5+0.j],\n",
       "            dims=(2, 2, 2))"
      ]
     },
     "execution_count": 8,
     "metadata": {},
     "output_type": "execute_result"
    }
   ],
   "source": [
    "state.evolve(ghz_circuit(3))"
   ]
  },
  {
   "cell_type": "code",
   "execution_count": 9,
   "metadata": {},
   "outputs": [
    {
     "data": {
      "text/plain": [
       "Statevector([0.70710678+0.j, 0.        +0.j, 0.        +0.j,\n",
       "             0.        +0.j, 0.        +0.j, 0.        +0.j,\n",
       "             0.        +0.j, 0.70710678+0.j],\n",
       "            dims=(2, 2, 2))"
      ]
     },
     "execution_count": 9,
     "metadata": {},
     "output_type": "execute_result"
    }
   ],
   "source": [
    "## Another way\n",
    "state=np.sqrt(0.5)*(qi.Statevector.from_label(\"000\")+qi.Statevector.from_label(\"111\"))\n",
    "state"
   ]
  },
  {
   "cell_type": "code",
   "execution_count": 10,
   "metadata": {},
   "outputs": [
    {
     "name": "stdout",
     "output_type": "stream",
     "text": [
      "Step 0:\n",
      " Statevector([1.+0.j, 0.+0.j, 0.+0.j, 0.+0.j, 0.+0.j, 0.+0.j, 0.+0.j,\n",
      "             0.+0.j],\n",
      "            dims=(2, 2, 2))\n"
     ]
    }
   ],
   "source": [
    "state0= qi.Statevector.from_label(\"000\")\n",
    "print(\"Step 0:\\n\", state0)"
   ]
  },
  {
   "cell_type": "code",
   "execution_count": 12,
   "metadata": {},
   "outputs": [
    {
     "name": "stdout",
     "output_type": "stream",
     "text": [
      "Step 1:\n",
      " Statevector([0.70710678+0.j, 0.        +0.j, 0.        +0.j,\n",
      "             0.        +0.j, 0.        +0.j, 0.        +0.j,\n",
      "             0.        +0.j, 0.70710678+0.j],\n",
      "            dims=(2, 2, 2))\n"
     ]
    }
   ],
   "source": [
    "state1= state0.evolve(ghz_circuit(3))\n",
    "print(\"Step 1:\\n\", state1)"
   ]
  },
  {
   "cell_type": "code",
   "execution_count": 13,
   "metadata": {},
   "outputs": [
    {
     "name": "stdout",
     "output_type": "stream",
     "text": [
      "Step 2:\n",
      " Statevector([1.+0.j, 0.+0.j, 0.+0.j, 0.+0.j, 0.+0.j, 0.+0.j, 0.+0.j,\n",
      "             0.+0.j],\n",
      "            dims=(2, 2, 2))\n"
     ]
    }
   ],
   "source": [
    "state2= state1.evolve(ghz_circuit(3).inverse())\n",
    "print(\"Step 2:\\n\", state2)"
   ]
  },
  {
   "cell_type": "code",
   "execution_count": 14,
   "metadata": {},
   "outputs": [],
   "source": [
    "from qiskit.extensions import HGate, CXGate\n",
    "\n",
    "H= HGate()\n",
    "CX= CXGate()"
   ]
  },
  {
   "cell_type": "code",
   "execution_count": 15,
   "metadata": {},
   "outputs": [
    {
     "name": "stdout",
     "output_type": "stream",
     "text": [
      "Step 0:\n",
      " Statevector([1.+0.j, 0.+0.j, 0.+0.j, 0.+0.j, 0.+0.j, 0.+0.j, 0.+0.j,\n",
      "             0.+0.j],\n",
      "            dims=(2, 2, 2))\n"
     ]
    }
   ],
   "source": [
    "state0= qi.Statevector.from_label(\"000\")\n",
    "print(\"Step 0:\\n\", state0)"
   ]
  },
  {
   "cell_type": "code",
   "execution_count": 17,
   "metadata": {},
   "outputs": [
    {
     "name": "stdout",
     "output_type": "stream",
     "text": [
      "Step 1:\n",
      " Statevector([0.70710678+0.j, 0.70710678+0.j, 0.        +0.j,\n",
      "             0.        +0.j, 0.        +0.j, 0.        +0.j,\n",
      "             0.        +0.j, 0.        +0.j],\n",
      "            dims=(2, 2, 2))\n"
     ]
    }
   ],
   "source": [
    "state1= state0.evolve(H,[0])\n",
    "print(\"Step 1:\\n\", state1)"
   ]
  },
  {
   "cell_type": "code",
   "execution_count": 18,
   "metadata": {},
   "outputs": [
    {
     "name": "stdout",
     "output_type": "stream",
     "text": [
      "Step 2:\n",
      " Statevector([0.70710678+0.j, 0.        +0.j, 0.        +0.j,\n",
      "             0.70710678+0.j, 0.        +0.j, 0.        +0.j,\n",
      "             0.        +0.j, 0.        +0.j],\n",
      "            dims=(2, 2, 2))\n"
     ]
    }
   ],
   "source": [
    "state2= state1.evolve(CX,[0,1])\n",
    "print(\"Step 2:\\n\", state2)"
   ]
  },
  {
   "cell_type": "code",
   "execution_count": 19,
   "metadata": {},
   "outputs": [
    {
     "name": "stdout",
     "output_type": "stream",
     "text": [
      "Step 3:\n",
      " Statevector([0.70710678+0.j, 0.        +0.j, 0.        +0.j,\n",
      "             0.        +0.j, 0.        +0.j, 0.        +0.j,\n",
      "             0.        +0.j, 0.70710678+0.j],\n",
      "            dims=(2, 2, 2))\n"
     ]
    }
   ],
   "source": [
    "state3= state2.evolve(CX,[0,2])\n",
    "print(\"Step 3:\\n\", state3)"
   ]
  },
  {
   "cell_type": "code",
   "execution_count": 20,
   "metadata": {},
   "outputs": [
    {
     "data": {
      "text/plain": [
       "array([0.5, 0. , 0. , 0. , 0. , 0. , 0. , 0.5])"
      ]
     },
     "execution_count": 20,
     "metadata": {},
     "output_type": "execute_result"
    }
   ],
   "source": [
    "state3.probabilities()"
   ]
  },
  {
   "cell_type": "code",
   "execution_count": 22,
   "metadata": {},
   "outputs": [
    {
     "data": {
      "text/plain": [
       "{'000': 499, '111': 525}"
      ]
     },
     "execution_count": 22,
     "metadata": {},
     "output_type": "execute_result"
    }
   ],
   "source": [
    "state3.sample_counts(1024)"
   ]
  },
  {
   "cell_type": "code",
   "execution_count": 27,
   "metadata": {},
   "outputs": [
    {
     "data": {
      "text/plain": [
       "{'000': 0.4999999999999999, '111': 0.4999999999999999}"
      ]
     },
     "execution_count": 27,
     "metadata": {},
     "output_type": "execute_result"
    }
   ],
   "source": [
    "state3.probabilities_dict()"
   ]
  },
  {
   "cell_type": "markdown",
   "metadata": {},
   "source": [
    "# 2. DensityMatrix Class"
   ]
  },
  {
   "cell_type": "code",
   "execution_count": 28,
   "metadata": {},
   "outputs": [
    {
     "data": {
      "text/plain": [
       "DensityMatrix([[0.5+0.j, 0. +0.j, 0. +0.j, 0.5+0.j],\n",
       "               [0. +0.j, 0. +0.j, 0. +0.j, 0. +0.j],\n",
       "               [0. +0.j, 0. +0.j, 0. +0.j, 0. +0.j],\n",
       "               [0.5+0.j, 0. +0.j, 0. +0.j, 0.5+0.j]],\n",
       "              dims=(2, 2))"
      ]
     },
     "execution_count": 28,
     "metadata": {},
     "output_type": "execute_result"
    }
   ],
   "source": [
    "qi.DensityMatrix.from_instruction(ghz_circuit(2))"
   ]
  },
  {
   "cell_type": "markdown",
   "metadata": {},
   "source": [
    "# 3. Operator Class"
   ]
  },
  {
   "cell_type": "code",
   "execution_count": 31,
   "metadata": {},
   "outputs": [
    {
     "name": "stdout",
     "output_type": "stream",
     "text": [
      "Operator([[ 0.70710678+0.j,  0.70710678+0.j,  0.        +0.j,\n",
      "            0.        +0.j],\n",
      "          [ 0.        +0.j,  0.        +0.j,  0.70710678+0.j,\n",
      "           -0.70710678+0.j],\n",
      "          [ 0.        +0.j,  0.        +0.j,  0.70710678+0.j,\n",
      "            0.70710678+0.j],\n",
      "          [ 0.70710678+0.j, -0.70710678+0.j,  0.        +0.j,\n",
      "            0.        +0.j]],\n",
      "         input_dims=(2, 2), output_dims=(2, 2))\n"
     ]
    }
   ],
   "source": [
    "unitary= qi.Operator(ghz_circuit(2))\n",
    "print(unitary)"
   ]
  },
  {
   "cell_type": "code",
   "execution_count": 33,
   "metadata": {},
   "outputs": [
    {
     "data": {
      "text/plain": [
       "array([[ 0.70710678+0.j,  0.70710678+0.j,  0.        +0.j,\n",
       "         0.        +0.j],\n",
       "       [ 0.        +0.j,  0.        +0.j,  0.70710678+0.j,\n",
       "        -0.70710678+0.j],\n",
       "       [ 0.        +0.j,  0.        +0.j,  0.70710678+0.j,\n",
       "         0.70710678+0.j],\n",
       "       [ 0.70710678+0.j, -0.70710678+0.j,  0.        +0.j,\n",
       "         0.        +0.j]])"
      ]
     },
     "execution_count": 33,
     "metadata": {},
     "output_type": "execute_result"
    }
   ],
   "source": [
    "#Numpy array\n",
    "unitary.data"
   ]
  },
  {
   "cell_type": "code",
   "execution_count": 34,
   "metadata": {},
   "outputs": [
    {
     "data": {
      "image/png": "[encoded data removed]",
      "text/plain": [
       "<Figure size 1080x360 with 2 Axes>"
      ]
     },
     "execution_count": 34,
     "metadata": {},
     "output_type": "execute_result"
    }
   ],
   "source": [
    "plot_state_city(unitary.data,title=\"Unitary\")"
   ]
  },
  {
   "cell_type": "code",
   "execution_count": 35,
   "metadata": {},
   "outputs": [
    {
     "name": "stdout",
     "output_type": "stream",
     "text": [
      "Operator([[0.+0.j, 0.+0.j, 0.+0.j, 1.+0.j],\n",
      "          [0.+0.j, 0.+0.j, 1.+0.j, 0.+0.j],\n",
      "          [0.+0.j, 1.+0.j, 0.+0.j, 0.+0.j],\n",
      "          [1.+0.j, 0.+0.j, 0.+0.j, 0.+0.j]],\n",
      "         input_dims=(2, 2), output_dims=(2, 2))\n"
     ]
    }
   ],
   "source": [
    "unitary= qi.Operator.from_label(\"XX\")\n",
    "print(unitary)"
   ]
  },
  {
   "cell_type": "code",
   "execution_count": 37,
   "metadata": {},
   "outputs": [
    {
     "data": {
      "text/plain": [
       "Operator([[ 0.        +0.j,  0.        +0.j,  0.70710678+0.j,\n",
       "            0.70710678+0.j],\n",
       "          [-0.70710678+0.j,  0.70710678+0.j,  0.        +0.j,\n",
       "            0.        +0.j],\n",
       "          [ 0.70710678+0.j,  0.70710678+0.j,  0.        +0.j,\n",
       "            0.        +0.j],\n",
       "          [ 0.        +0.j,  0.        +0.j, -0.70710678+0.j,\n",
       "            0.70710678+0.j]],\n",
       "         input_dims=(2, 2), output_dims=(2, 2))"
      ]
     },
     "execution_count": 37,
     "metadata": {},
     "output_type": "execute_result"
    }
   ],
   "source": [
    "unitary.compose(ghz_circuit(2))"
   ]
  },
  {
   "cell_type": "code",
   "execution_count": 38,
   "metadata": {},
   "outputs": [
    {
     "name": "stdout",
     "output_type": "stream",
     "text": [
      "Step O:\n",
      " Operator([[1.+0.j, 0.+0.j, 0.+0.j, 0.+0.j],\n",
      "          [0.+0.j, 1.+0.j, 0.+0.j, 0.+0.j],\n",
      "          [0.+0.j, 0.+0.j, 1.+0.j, 0.+0.j],\n",
      "          [0.+0.j, 0.+0.j, 0.+0.j, 1.+0.j]],\n",
      "         input_dims=(2, 2), output_dims=(2, 2))\n"
     ]
    }
   ],
   "source": [
    "unitary0= qi.Operator.from_label(\"II\")\n",
    "print(\"Step O:\\n\", unitary0)"
   ]
  },
  {
   "cell_type": "code",
   "execution_count": 39,
   "metadata": {},
   "outputs": [
    {
     "name": "stdout",
     "output_type": "stream",
     "text": [
      "Step 1:\n",
      " Operator([[ 0.70710678+0.j,  0.70710678+0.j,  0.        +0.j,\n",
      "            0.        +0.j],\n",
      "          [ 0.70710678+0.j, -0.70710678+0.j,  0.        +0.j,\n",
      "            0.        +0.j],\n",
      "          [ 0.        +0.j,  0.        +0.j,  0.70710678+0.j,\n",
      "            0.70710678+0.j],\n",
      "          [ 0.        +0.j,  0.        +0.j,  0.70710678+0.j,\n",
      "           -0.70710678+0.j]],\n",
      "         input_dims=(2, 2), output_dims=(2, 2))\n"
     ]
    }
   ],
   "source": [
    "unitary1=unitary0.compose(H,[0])\n",
    "print(\"Step 1:\\n\", unitary1)"
   ]
  },
  {
   "cell_type": "code",
   "execution_count": 41,
   "metadata": {},
   "outputs": [
    {
     "name": "stdout",
     "output_type": "stream",
     "text": [
      "Step 2:\n",
      " Operator([[ 0.70710678+0.j,  0.70710678+0.j,  0.        +0.j,\n",
      "            0.        +0.j],\n",
      "          [ 0.        +0.j,  0.        +0.j,  0.70710678+0.j,\n",
      "           -0.70710678+0.j],\n",
      "          [ 0.        +0.j,  0.        +0.j,  0.70710678+0.j,\n",
      "            0.70710678+0.j],\n",
      "          [ 0.70710678+0.j, -0.70710678+0.j,  0.        +0.j,\n",
      "            0.        +0.j]],\n",
      "         input_dims=(2, 2), output_dims=(2, 2))\n"
     ]
    }
   ],
   "source": [
    "unitary2= unitary1.compose(CX, [0,1])\n",
    "print(\"Step 2:\\n\", unitary2)"
   ]
  },
  {
   "cell_type": "markdown",
   "metadata": {},
   "source": [
    "# Clifford Class\n",
    "\n",
    "- Minimal set is H,S,CX"
   ]
  },
  {
   "cell_type": "code",
   "execution_count": 42,
   "metadata": {},
   "outputs": [
    {
     "data": {
      "text/plain": [
       "Clifford(StabilizerTable(\n",
       "array([[False, False,  True, False],\n",
       "       [False,  True, False, False],\n",
       "       [ True,  True, False, False],\n",
       "       [False, False,  True,  True]]),\n",
       "phase=array([False, False, False, False])))"
      ]
     },
     "execution_count": 42,
     "metadata": {},
     "output_type": "execute_result"
    }
   ],
   "source": [
    "cliff = qi.Clifford(ghz_circuit(2))\n",
    "cliff"
   ]
  },
  {
   "cell_type": "code",
   "execution_count": 43,
   "metadata": {},
   "outputs": [
    {
     "data": {
      "text/plain": [
       "StabilizerTable(\n",
       "array([[False, False,  True, False],\n",
       "       [False,  True, False, False],\n",
       "       [ True,  True, False, False],\n",
       "       [False, False,  True,  True]]),\n",
       "phase=array([False, False, False, False]))"
      ]
     },
     "execution_count": 43,
     "metadata": {},
     "output_type": "execute_result"
    }
   ],
   "source": [
    "cliff.table"
   ]
  },
  {
   "cell_type": "code",
   "execution_count": 44,
   "metadata": {},
   "outputs": [
    {
     "data": {
      "text/plain": [
       "array([[False, False,  True, False],\n",
       "       [False,  True, False, False],\n",
       "       [ True,  True, False, False],\n",
       "       [False, False,  True,  True]])"
      ]
     },
     "execution_count": 44,
     "metadata": {},
     "output_type": "execute_result"
    }
   ],
   "source": [
    "cliff.table.array"
   ]
  },
  {
   "cell_type": "code",
   "execution_count": 46,
   "metadata": {},
   "outputs": [
    {
     "data": {
      "text/plain": [
       "array([False, False, False, False])"
      ]
     },
     "execution_count": 46,
     "metadata": {},
     "output_type": "execute_result"
    }
   ],
   "source": [
    "cliff.table.phase"
   ]
  },
  {
   "cell_type": "code",
   "execution_count": 48,
   "metadata": {},
   "outputs": [
    {
     "data": {
      "text/plain": [
       "{'stabilizer': ['+XX', '+ZZ'], 'destabilizer': ['+IZ', '+XI']}"
      ]
     },
     "execution_count": 48,
     "metadata": {},
     "output_type": "execute_result"
    }
   ],
   "source": [
    "cliff.to_dict()"
   ]
  },
  {
   "cell_type": "code",
   "execution_count": 49,
   "metadata": {},
   "outputs": [
    {
     "name": "stdout",
     "output_type": "stream",
     "text": [
      "Clifford: Stabilizer = ['+XX', '+ZZ'], Destabilizer = ['+IZ', '+XI']\n"
     ]
    }
   ],
   "source": [
    "print(cliff)"
   ]
  },
  {
   "cell_type": "code",
   "execution_count": 51,
   "metadata": {},
   "outputs": [
    {
     "name": "stdout",
     "output_type": "stream",
     "text": [
      "Step 0:\n",
      " Clifford: Stabilizer = ['+IIIZ', '+IIZI', '+IZII', '+ZIII'], Destabilizer = ['+IIIX', '+IIXI', '+IXII', '+XIII']\n"
     ]
    }
   ],
   "source": [
    "nq=4\n",
    "cliff0= qi.Clifford(np.eye(2*nq))\n",
    "print(\"Step 0:\\n\", cliff0)"
   ]
  },
  {
   "cell_type": "code",
   "execution_count": 52,
   "metadata": {},
   "outputs": [
    {
     "name": "stdout",
     "output_type": "stream",
     "text": [
      "Step 1:\n",
      " Clifford: Stabilizer = ['+IIIX', '+IIZI', '+IZII', '+ZIII'], Destabilizer = ['+IIIZ', '+IIXI', '+IXII', '+XIII']\n",
      "Step 2:\n",
      " Clifford: Stabilizer = ['+IIXX', '+IIZZ', '+IZII', '+ZIII'], Destabilizer = ['+IIIZ', '+IIXI', '+IXII', '+XIII']\n",
      "Step 3:\n",
      " Clifford: Stabilizer = ['+IXXX', '+IIZZ', '+IZIZ', '+ZIII'], Destabilizer = ['+IIIZ', '+IIXI', '+IXII', '+XIII']\n",
      "Step 4:\n",
      " Clifford: Stabilizer = ['+XXXX', '+IIZZ', '+IZIZ', '+ZIIZ'], Destabilizer = ['+IIIZ', '+IIXI', '+IXII', '+XIII']\n"
     ]
    }
   ],
   "source": [
    "cliff1 = cliff0.compose(H, [0])\n",
    "print('Step 1:\\n', cliff1)\n",
    "\n",
    "cliff2 = cliff1.compose(CX, [0, 1])\n",
    "print('Step 2:\\n', cliff2)\n",
    "\n",
    "cliff3 = cliff2.compose(CX, [0, 2])\n",
    "print('Step 3:\\n', cliff3)\n",
    "\n",
    "cliff4 = cliff3.compose(CX, [0, 3])\n",
    "print('Step 4:\\n', cliff4)"
   ]
  },
  {
   "cell_type": "code",
   "execution_count": null,
   "metadata": {},
   "outputs": [],
   "source": []
  }
 ],
 "metadata": {
  "kernelspec": {
   "display_name": "Python 3",
   "language": "python",
   "name": "python3"
  },
  "language_info": {
   "codemirror_mode": {
    "name": "ipython",
    "version": 3
   },
   "file_extension": ".py",
   "mimetype": "text/x-python",
   "name": "python",
   "nbconvert_exporter": "python",
   "pygments_lexer": "ipython3",
   "version": "3.7.6"
  }
 },
 "nbformat": 4,
 "nbformat_minor": 4
}
