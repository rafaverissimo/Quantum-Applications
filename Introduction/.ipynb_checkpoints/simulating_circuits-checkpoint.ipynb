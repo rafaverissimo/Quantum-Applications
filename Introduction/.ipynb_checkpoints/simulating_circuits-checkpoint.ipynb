{
 "cells": [
  {
   "cell_type": "markdown",
   "metadata": {
    "slideshow": {
     "slide_type": "slide"
    }
   },
   "source": [
    "# Simulating Circuits\n",
    "\n",
    "* **Christopher J. Wood**\n",
    "* Research Staff Member, Quantum Software Group\n",
    "* IBM Thomas J. Watson Research Center, Yorktown Heights, NY\n",
    "* *April 22, 2020*"
   ]
  },
  {
   "cell_type": "markdown",
   "metadata": {
    "slideshow": {
     "slide_type": "subslide"
    }
   },
   "source": [
    "![Circuit Simulation](figures/circuit_spectrum.png)"
   ]
  },
  {
   "cell_type": "markdown",
   "metadata": {
    "slideshow": {
     "slide_type": "subslide"
    }
   },
   "source": [
    "![Circuit Simulation](figures/circuit_purist.png)"
   ]
  },
  {
   "cell_type": "markdown",
   "metadata": {
    "slideshow": {
     "slide_type": "slide"
    }
   },
   "source": [
    "# Simulating circuits with qiskit\n",
    "\n",
    "We will demonstrate multiple ways to simulate circuits in Qiskit.\n",
    "\n",
    "The right tool for the job depends on what information we wish to obtain..."
   ]
  },
  {
   "cell_type": "markdown",
   "metadata": {
    "slideshow": {
     "slide_type": "subslide"
    }
   },
   "source": [
    "### Outline\n",
    "\n",
    "* Qiskit quantum_info module\n",
    "  * Statevector class\n",
    "  * DensityMatrix class\n",
    "  * Operator class\n",
    "  * Clifford class\n",
    "  * SuperOp class\n",
    "* Inserting operators into circuits\n",
    "* Adding noise to circuits\n",
    "* Simulating measurements and probabilities"
   ]
  },
  {
   "cell_type": "code",
   "execution_count": 1,
   "metadata": {
    "slideshow": {
     "slide_type": "subslide"
    }
   },
   "outputs": [
    {
     "data": {
      "text/html": [
       "<h3>Version Information</h3><table><tr><th>Qiskit Software</th><th>Version</th></tr><tr><td>Qiskit</td><td>0.18.0</td></tr><tr><td>Terra</td><td>0.13.0</td></tr><tr><td>Aer</td><td>0.5.0</td></tr><tr><td>Ignis</td><td>0.3.0</td></tr><tr><td>Aqua</td><td>0.6.5</td></tr><tr><td>IBM Q Provider</td><td>0.6.0</td></tr><tr><th>System information</th></tr><tr><td>Python</td><td>3.7.4 (default, Aug 13 2019, 15:17:50) \n",
       "[Clang 4.0.1 (tags/RELEASE_401/final)]</td></tr><tr><td>OS</td><td>Darwin</td></tr><tr><td>CPUs</td><td>6</td></tr><tr><td>Memory (Gb)</td><td>32.0</td></tr><tr><td colspan='2'>Wed Apr 22 09:51:29 2020 EDT</td></tr></table>"
      ],
      "text/plain": [
       "<IPython.core.display.HTML object>"
      ]
     },
     "metadata": {},
     "output_type": "display_data"
    }
   ],
   "source": [
    "import qiskit.tools.jupyter\n",
    "%qiskit_version_table"
   ]
  },
  {
   "cell_type": "markdown",
   "metadata": {
    "slideshow": {
     "slide_type": "subslide"
    }
   },
   "source": [
    "# What do we want to simulate?\n",
    "\n",
    "Generally there are three things we might want from a circuit simulation\n",
    "\n",
    "1. **Counts:** measurement outcomes from an experiment\n",
    "2. **Quantum State:** the output state of the circuit acting on an intial state\n",
    "3. **Quantum Operator:** a representation of the circuit itself as an operator\n",
    "\n"
   ]
  },
  {
   "cell_type": "markdown",
   "metadata": {
    "slideshow": {
     "slide_type": "fragment"
    }
   },
   "source": [
    "Case 1 is a typical simulation for which you can use a HPC provider such as [Qiskit Aer](https://github.com/Qiskit/qiskit-aer).\n",
    "\n",
    "For the other two cases we want to work with objects that represent a *quantum state* or *quantum operator* directly."
   ]
  },
  {
   "cell_type": "markdown",
   "metadata": {
    "slideshow": {
     "slide_type": "subslide"
    }
   },
   "source": [
    "### Example Circuit\n",
    "\n",
    "Lets start with a simple example circuit that would prepare a an $N$-qubit entangled GHZ state from the initial $|0^{\\otimes N}\\rangle$ state:\n",
    "$$U_N|0^{\\otimes N}\\rangle = \\frac{|0^{\\otimes N}\\rangle + |1^{\\otimes N}\\rangle}{\\sqrt{2}}$$"
   ]
  },
  {
   "cell_type": "markdown",
   "metadata": {
    "slideshow": {
     "slide_type": "subslide"
    }
   },
   "source": [
    "We can write a simple function to generate the circuit for  $U_N$:"
   ]
  },
  {
   "cell_type": "code",
   "execution_count": 2,
   "metadata": {
    "slideshow": {
     "slide_type": "fragment"
    }
   },
   "outputs": [],
   "source": [
    "import qiskit\n",
    "from qiskit import QuantumCircuit\n",
    "from qiskit.visualization import plot_histogram, plot_state_city\n",
    "import qiskit.quantum_info as qi\n",
    "\n",
    "import numpy as np\n",
    "\n",
    "def ghz_circuit(num_qubits):\n",
    "    \"\"\"Return an N-qubit GHZ preparation circuit.\"\"\"\n",
    "    circ = QuantumCircuit(num_qubits)\n",
    "    circ.h(0)\n",
    "    for j in range(1, num_qubits):\n",
    "        circ.cx(0, j)\n",
    "    return circ"
   ]
  },
  {
   "cell_type": "markdown",
   "metadata": {
    "slideshow": {
     "slide_type": "subslide"
    }
   },
   "source": [
    "### 2-qubit GHZ (Bell-state) circuit"
   ]
  },
  {
   "cell_type": "code",
   "execution_count": 3,
   "metadata": {
    "slideshow": {
     "slide_type": "-"
    }
   },
   "outputs": [
    {
     "data": {
      "text/html": [
       "<pre style=\"word-wrap: normal;white-space: pre;background: #fff0;line-height: 1.1;font-family: &quot;Courier New&quot;,Courier,monospace\">     ┌───┐     \n",
       "q_0: ┤ H ├──■──\n",
       "     └───┘┌─┴─┐\n",
       "q_1: ─────┤ X ├\n",
       "          └───┘</pre>"
      ],
      "text/plain": [
       "     ┌───┐     \n",
       "q_0: ┤ H ├──■──\n",
       "     └───┘┌─┴─┐\n",
       "q_1: ─────┤ X ├\n",
       "          └───┘"
      ]
     },
     "execution_count": 3,
     "metadata": {},
     "output_type": "execute_result"
    }
   ],
   "source": [
    "ghz_circuit(2).draw()"
   ]
  },
  {
   "cell_type": "markdown",
   "metadata": {
    "slideshow": {
     "slide_type": "fragment"
    }
   },
   "source": [
    "### 5-qubit GHZ circuit"
   ]
  },
  {
   "cell_type": "code",
   "execution_count": 4,
   "metadata": {
    "slideshow": {
     "slide_type": "-"
    }
   },
   "outputs": [
    {
     "data": {
      "text/html": [
       "<pre style=\"word-wrap: normal;white-space: pre;background: #fff0;line-height: 1.1;font-family: &quot;Courier New&quot;,Courier,monospace\">     ┌───┐                    \n",
       "q_0: ┤ H ├──■────■────■────■──\n",
       "     └───┘┌─┴─┐  │    │    │  \n",
       "q_1: ─────┤ X ├──┼────┼────┼──\n",
       "          └───┘┌─┴─┐  │    │  \n",
       "q_2: ──────────┤ X ├──┼────┼──\n",
       "               └───┘┌─┴─┐  │  \n",
       "q_3: ───────────────┤ X ├──┼──\n",
       "                    └───┘┌─┴─┐\n",
       "q_4: ────────────────────┤ X ├\n",
       "                         └───┘</pre>"
      ],
      "text/plain": [
       "     ┌───┐                    \n",
       "q_0: ┤ H ├──■────■────■────■──\n",
       "     └───┘┌─┴─┐  │    │    │  \n",
       "q_1: ─────┤ X ├──┼────┼────┼──\n",
       "          └───┘┌─┴─┐  │    │  \n",
       "q_2: ──────────┤ X ├──┼────┼──\n",
       "               └───┘┌─┴─┐  │  \n",
       "q_3: ───────────────┤ X ├──┼──\n",
       "                    └───┘┌─┴─┐\n",
       "q_4: ────────────────────┤ X ├\n",
       "                         └───┘"
      ]
     },
     "execution_count": 4,
     "metadata": {},
     "output_type": "execute_result"
    }
   ],
   "source": [
    "ghz_circuit(5).draw()"
   ]
  },
  {
   "cell_type": "markdown",
   "metadata": {
    "slideshow": {
     "slide_type": "slide"
    }
   },
   "source": [
    "# Qiskit `quantum_info` module\n",
    "\n",
    "The `qiskit.quantum_info` module contains classes and functions for working with *quantum states* and *quantum operators*.\n",
    "\n",
    "In particular it can be used to simulate:\n",
    "* The output *quantum state* of quantum circuits.\n",
    "* The *quantum operator* corresponding to a quantum circuit."
   ]
  },
  {
   "cell_type": "markdown",
   "metadata": {
    "slideshow": {
     "slide_type": "subslide"
    }
   },
   "source": [
    "### Also contains tools for\n",
    "\n",
    "* Manipulating states and operators\n",
    "  * *compose, tensor etc*"
   ]
  },
  {
   "cell_type": "markdown",
   "metadata": {
    "slideshow": {
     "slide_type": "fragment"
    }
   },
   "source": [
    "* Computing measures of states and operators\n",
    "  * *state fidelity, average gate fidelity, diamond norm etc*"
   ]
  },
  {
   "cell_type": "markdown",
   "metadata": {
    "slideshow": {
     "slide_type": "fragment"
    }
   },
   "source": [
    "* Generating random states and operators"
   ]
  },
  {
   "cell_type": "markdown",
   "metadata": {
    "slideshow": {
     "slide_type": "fragment"
    }
   },
   "source": [
    "* Domposing quantum operators into quantum circuits"
   ]
  },
  {
   "cell_type": "markdown",
   "metadata": {
    "slideshow": {
     "slide_type": "subslide"
    }
   },
   "source": [
    "See the [API documenation](https://qiskit.org/documentation/apidoc/quantum_info.html) for additional information:\n",
    "\n",
    "**https://qiskit.org/documentation/apidoc/quantum_info.html**"
   ]
  },
  {
   "cell_type": "markdown",
   "metadata": {
    "slideshow": {
     "slide_type": "slide"
    }
   },
   "source": [
    "# Statevector Class\n",
    "\n",
    "* Lets start with the [Statevector](https://qiskit.org/documentation/stubs/qiskit.quantum_info.Statevector.html) class."
   ]
  },
  {
   "cell_type": "markdown",
   "metadata": {
    "slideshow": {
     "slide_type": "fragment"
    }
   },
   "source": [
    "* In general this class represents a  general statevector on N-qudits (each subsystem can have a custom dimension)."
   ]
  },
  {
   "cell_type": "markdown",
   "metadata": {
    "slideshow": {
     "slide_type": "fragment"
    }
   },
   "source": [
    "* For now we will only consider the N-qubit case since our `QuantumCircuits` act on N-qubits."
   ]
  },
  {
   "cell_type": "markdown",
   "metadata": {
    "slideshow": {
     "slide_type": "subslide"
    }
   },
   "source": [
    "## Simulating the output state of a circuit\n",
    "\n",
    "* A `Statevector` can be constructed from `QuantumCircuit` that contains only unitary gate instructions.\n",
    "  * use `Statevector.from_instruction` class method"
   ]
  },
  {
   "cell_type": "markdown",
   "metadata": {
    "slideshow": {
     "slide_type": "fragment"
    }
   },
   "source": [
    "* This will construct the state returned from applying the circuit to the $|0^{\\otimes n}\\rangle$ state."
   ]
  },
  {
   "cell_type": "markdown",
   "metadata": {
    "slideshow": {
     "slide_type": "fragment"
    }
   },
   "source": [
    "* An $N$-qubit circuit returns a `Statevector` containing a length-$2^N$ complex vector"
   ]
  },
  {
   "cell_type": "markdown",
   "metadata": {
    "slideshow": {
     "slide_type": "subslide"
    }
   },
   "source": [
    "### Example: 3-qubit GHZ (Bell) state circuit"
   ]
  },
  {
   "cell_type": "code",
   "execution_count": 5,
   "metadata": {
    "slideshow": {
     "slide_type": "-"
    }
   },
   "outputs": [
    {
     "data": {
      "text/plain": [
       "Statevector([0.70710678+0.j, 0.        +0.j, 0.        +0.j,\n",
       "             0.        +0.j, 0.        +0.j, 0.        +0.j,\n",
       "             0.        +0.j, 0.70710678+0.j],\n",
       "            dims=(2, 2, 2))"
      ]
     },
     "execution_count": 5,
     "metadata": {},
     "output_type": "execute_result"
    }
   ],
   "source": [
    "qi.Statevector.from_instruction(ghz_circuit(3))"
   ]
  },
  {
   "cell_type": "markdown",
   "metadata": {
    "slideshow": {
     "slide_type": "subslide"
    }
   },
   "source": [
    "### Accessing the Numpy array\n",
    "\n",
    "If you want the underlying Numpy array you can get it using the `.data` attribute"
   ]
  },
  {
   "cell_type": "code",
   "execution_count": 6,
   "metadata": {},
   "outputs": [
    {
     "data": {
      "text/plain": [
       "array([0.70710678+0.j, 0.        +0.j, 0.        +0.j, 0.        +0.j,\n",
       "       0.        +0.j, 0.        +0.j, 0.        +0.j, 0.70710678+0.j])"
      ]
     },
     "execution_count": 6,
     "metadata": {},
     "output_type": "execute_result"
    }
   ],
   "source": [
    "state = qi.Statevector.from_instruction(ghz_circuit(3))\n",
    "state.data"
   ]
  },
  {
   "cell_type": "markdown",
   "metadata": {
    "slideshow": {
     "slide_type": "subslide"
    }
   },
   "source": [
    "### Applying circuit to a different initial state\n",
    "\n",
    "* A `Statevector` can also be initialized from an array into an arbitrary state\n",
    "* Applying a circuit to an arbitrary state is done using `evolve` method"
   ]
  },
  {
   "cell_type": "code",
   "execution_count": 7,
   "metadata": {
    "slideshow": {
     "slide_type": "fragment"
    }
   },
   "outputs": [
    {
     "data": {
      "text/plain": [
       "Statevector([0.70710678+0.j, 0.        +0.j, 0.        +0.j,\n",
       "             0.        +0.j, 0.        +0.j, 0.        +0.j,\n",
       "             0.        +0.j, 0.70710678+0.j],\n",
       "            dims=(2, 2, 2))"
      ]
     },
     "execution_count": 7,
     "metadata": {},
     "output_type": "execute_result"
    }
   ],
   "source": [
    "state = qi.Statevector(np.array([1, 0, 0, 0, 0, 0, 0, 1]) / np.sqrt(2))\n",
    "state"
   ]
  },
  {
   "cell_type": "code",
   "execution_count": 8,
   "metadata": {
    "slideshow": {
     "slide_type": "fragment"
    }
   },
   "outputs": [
    {
     "data": {
      "text/plain": [
       "Statevector([ 0.5+0.j, -0.5+0.j,  0. +0.j,  0. +0.j,  0. +0.j,  0. +0.j,\n",
       "              0.5+0.j,  0.5+0.j],\n",
       "            dims=(2, 2, 2))"
      ]
     },
     "execution_count": 8,
     "metadata": {},
     "output_type": "execute_result"
    }
   ],
   "source": [
    "state.evolve(ghz_circuit(3))"
   ]
  },
  {
   "cell_type": "markdown",
   "metadata": {
    "slideshow": {
     "slide_type": "subslide"
    }
   },
   "source": [
    "### We can also initialize from computational basis state\n",
    "\n",
    "* This uses the `from_label` class method"
   ]
  },
  {
   "cell_type": "code",
   "execution_count": 9,
   "metadata": {},
   "outputs": [
    {
     "data": {
      "text/plain": [
       "Statevector([0.70710678+0.j, 0.        +0.j, 0.        +0.j,\n",
       "             0.        +0.j, 0.        +0.j, 0.        +0.j,\n",
       "             0.        +0.j, 0.70710678+0.j],\n",
       "            dims=(2, 2, 2))"
      ]
     },
     "execution_count": 9,
     "metadata": {},
     "output_type": "execute_result"
    }
   ],
   "source": [
    "state = np.sqrt(0.5) * (\n",
    "        qi.Statevector.from_label('000')\n",
    "        + qi.Statevector.from_label('111'))\n",
    "state"
   ]
  },
  {
   "cell_type": "markdown",
   "metadata": {
    "slideshow": {
     "slide_type": "subslide"
    }
   },
   "source": [
    "## Applying circuit or gates iteratively\n",
    "\n",
    "* One use for `Statevector` class is to monitor the state as you apply a sequence of gates or circuits"
   ]
  },
  {
   "cell_type": "markdown",
   "metadata": {
    "slideshow": {
     "slide_type": "subslide"
    }
   },
   "source": [
    "### Example: apply GHZ circuit then inverse"
   ]
  },
  {
   "cell_type": "code",
   "execution_count": 10,
   "metadata": {},
   "outputs": [
    {
     "name": "stdout",
     "output_type": "stream",
     "text": [
      "Step 0:\n",
      " Statevector([1.+0.j, 0.+0.j, 0.+0.j, 0.+0.j, 0.+0.j, 0.+0.j, 0.+0.j,\n",
      "             0.+0.j],\n",
      "            dims=(2, 2, 2))\n"
     ]
    }
   ],
   "source": [
    "state0 = qi.Statevector.from_label('000')\n",
    "print('Step 0:\\n', state0)"
   ]
  },
  {
   "cell_type": "code",
   "execution_count": 11,
   "metadata": {
    "slideshow": {
     "slide_type": "fragment"
    }
   },
   "outputs": [
    {
     "name": "stdout",
     "output_type": "stream",
     "text": [
      "Step 1:\n",
      " Statevector([0.70710678+0.j, 0.        +0.j, 0.        +0.j,\n",
      "             0.        +0.j, 0.        +0.j, 0.        +0.j,\n",
      "             0.        +0.j, 0.70710678+0.j],\n",
      "            dims=(2, 2, 2))\n"
     ]
    }
   ],
   "source": [
    "state1 = state0.evolve(ghz_circuit(3))\n",
    "print('Step 1:\\n', state1)"
   ]
  },
  {
   "cell_type": "code",
   "execution_count": 12,
   "metadata": {
    "slideshow": {
     "slide_type": "fragment"
    }
   },
   "outputs": [
    {
     "name": "stdout",
     "output_type": "stream",
     "text": [
      "Step 2:\n",
      " Statevector([1.+0.j, 0.+0.j, 0.+0.j, 0.+0.j, 0.+0.j, 0.+0.j, 0.+0.j,\n",
      "             0.+0.j],\n",
      "            dims=(2, 2, 2))\n"
     ]
    }
   ],
   "source": [
    "state2 = state1.evolve(ghz_circuit(3).inverse())\n",
    "print('Step 2:\\n', state2)"
   ]
  },
  {
   "cell_type": "markdown",
   "metadata": {
    "slideshow": {
     "slide_type": "subslide"
    }
   },
   "source": [
    "### Example: applying GHZ circuit one gate at a time\n",
    "\n",
    "* Now we demonstate how to apply qiskit `Gate` objects one at a time to track the evolution of a state"
   ]
  },
  {
   "cell_type": "code",
   "execution_count": 13,
   "metadata": {},
   "outputs": [],
   "source": [
    "from qiskit.extensions import HGate, CXGate\n",
    "\n",
    "H = HGate()\n",
    "CX = CXGate()"
   ]
  },
  {
   "cell_type": "code",
   "execution_count": 14,
   "metadata": {
    "slideshow": {
     "slide_type": "fragment"
    }
   },
   "outputs": [
    {
     "name": "stdout",
     "output_type": "stream",
     "text": [
      "Step 0:\n",
      " Statevector([1.+0.j, 0.+0.j, 0.+0.j, 0.+0.j, 0.+0.j, 0.+0.j, 0.+0.j,\n",
      "             0.+0.j],\n",
      "            dims=(2, 2, 2))\n"
     ]
    }
   ],
   "source": [
    "state0 = qi.Statevector.from_label('000')\n",
    "print('Step 0:\\n', state0)"
   ]
  },
  {
   "cell_type": "code",
   "execution_count": 15,
   "metadata": {
    "slideshow": {
     "slide_type": "slide"
    }
   },
   "outputs": [
    {
     "name": "stdout",
     "output_type": "stream",
     "text": [
      "Step 1:\n",
      " Statevector([0.70710678+0.j, 0.70710678+0.j, 0.        +0.j,\n",
      "             0.        +0.j, 0.        +0.j, 0.        +0.j,\n",
      "             0.        +0.j, 0.        +0.j],\n",
      "            dims=(2, 2, 2))\n"
     ]
    }
   ],
   "source": [
    "state1 = state0.evolve(H, [0])\n",
    "print('Step 1:\\n', state1)"
   ]
  },
  {
   "cell_type": "code",
   "execution_count": 16,
   "metadata": {
    "slideshow": {
     "slide_type": "fragment"
    }
   },
   "outputs": [
    {
     "name": "stdout",
     "output_type": "stream",
     "text": [
      "Step 2:\n",
      " Statevector([0.70710678+0.j, 0.        +0.j, 0.        +0.j,\n",
      "             0.70710678+0.j, 0.        +0.j, 0.        +0.j,\n",
      "             0.        +0.j, 0.        +0.j],\n",
      "            dims=(2, 2, 2))\n"
     ]
    }
   ],
   "source": [
    "state2 = state1.evolve(CX, [0, 1])\n",
    "print('Step 2:\\n', state2)"
   ]
  },
  {
   "cell_type": "code",
   "execution_count": 17,
   "metadata": {
    "slideshow": {
     "slide_type": "fragment"
    }
   },
   "outputs": [
    {
     "name": "stdout",
     "output_type": "stream",
     "text": [
      "Step 3:\n",
      " Statevector([0.70710678+0.j, 0.        +0.j, 0.        +0.j,\n",
      "             0.        +0.j, 0.        +0.j, 0.        +0.j,\n",
      "             0.        +0.j, 0.70710678+0.j],\n",
      "            dims=(2, 2, 2))\n"
     ]
    }
   ],
   "source": [
    "state3 = state2.evolve(CX, [0, 2])\n",
    "print('Step 3:\\n', state3)"
   ]
  },
  {
   "cell_type": "markdown",
   "metadata": {
    "slideshow": {
     "slide_type": "subslide"
    }
   },
   "source": [
    "### Additional Information\n",
    "\n",
    "*  `Statevector` objects also have methods to compose, add, subtract, multiply, and tensor product them together. \n",
    "* We won't cover them all here but see [Statevector API documentation](https://qiskit.org/documentation/stubs/qiskit.quantum_info.Statevector.html) for more details."
   ]
  },
  {
   "cell_type": "markdown",
   "metadata": {
    "slideshow": {
     "slide_type": "slide"
    }
   },
   "source": [
    "# DensityMatrix Class\n",
    "\n",
    "* There is also a [DensityMatrix](https://qiskit.org/documentation/stubs/qiskit.quantum_info.DensityMatrix.html) class.\n",
    "\n",
    "* It has the same basic functionality as `Statevector` but stores a density matrix instead.\n",
    "\n",
    "* We'll come back to this more later!"
   ]
  },
  {
   "cell_type": "code",
   "execution_count": 18,
   "metadata": {
    "slideshow": {
     "slide_type": "fragment"
    }
   },
   "outputs": [
    {
     "data": {
      "text/plain": [
       "DensityMatrix([[0.5+0.j, 0. +0.j, 0. +0.j, 0.5+0.j],\n",
       "               [0. +0.j, 0. +0.j, 0. +0.j, 0. +0.j],\n",
       "               [0. +0.j, 0. +0.j, 0. +0.j, 0. +0.j],\n",
       "               [0.5+0.j, 0. +0.j, 0. +0.j, 0.5+0.j]],\n",
       "              dims=(2, 2))"
      ]
     },
     "execution_count": 18,
     "metadata": {},
     "output_type": "execute_result"
    }
   ],
   "source": [
    "qi.DensityMatrix.from_instruction(ghz_circuit(2))"
   ]
  },
  {
   "cell_type": "markdown",
   "metadata": {
    "slideshow": {
     "slide_type": "slide"
    }
   },
   "source": [
    "# Operator Class\n",
    "\n",
    "* Next lets move to constructing the operator representation of the circuit itself, starting with the [Operator](https://qiskit.org/documentation/stubs/qiskit.quantum_info.Operator.html) class."
   ]
  },
  {
   "cell_type": "markdown",
   "metadata": {
    "slideshow": {
     "slide_type": "fragment"
    }
   },
   "source": [
    "* The [Operator](https://qiskit.org/documentation/stubs/qiskit.quantum_info.Operator.html) class represents a general complex matrix on N-qudits (each subsystem can have a custom dimension)."
   ]
  },
  {
   "cell_type": "markdown",
   "metadata": {
    "slideshow": {
     "slide_type": "fragment"
    }
   },
   "source": [
    "* For now we will only consider the N-qubit case since our `QuantumCircuits` act on N-qubits."
   ]
  },
  {
   "cell_type": "markdown",
   "metadata": {
    "slideshow": {
     "slide_type": "subslide"
    }
   },
   "source": [
    "## Simulating a circuit with an `Operator`\n",
    "\n",
    "* An `Operator` can be initialized from a `QuantumCircuit` if it has no classical instructions.\n",
    "* This will construct the unitary `Operator` for that circuit"
   ]
  },
  {
   "cell_type": "markdown",
   "metadata": {
    "slideshow": {
     "slide_type": "fragment"
    }
   },
   "source": [
    "* A $N$-qubit circuit returns a $2^N \\times 2^N$ dimensional complex array `Operator`"
   ]
  },
  {
   "cell_type": "markdown",
   "metadata": {
    "slideshow": {
     "slide_type": "subslide"
    }
   },
   "source": [
    "### Example 2-qubit GHZ (Bell) state circuit"
   ]
  },
  {
   "cell_type": "code",
   "execution_count": 19,
   "metadata": {
    "slideshow": {
     "slide_type": "-"
    }
   },
   "outputs": [
    {
     "name": "stdout",
     "output_type": "stream",
     "text": [
      "Operator([[ 0.70710678+0.j,  0.70710678+0.j,  0.        +0.j,\n",
      "            0.        +0.j],\n",
      "          [ 0.        +0.j,  0.        +0.j,  0.70710678+0.j,\n",
      "           -0.70710678+0.j],\n",
      "          [ 0.        +0.j,  0.        +0.j,  0.70710678+0.j,\n",
      "            0.70710678+0.j],\n",
      "          [ 0.70710678+0.j, -0.70710678+0.j,  0.        +0.j,\n",
      "            0.        +0.j]],\n",
      "         input_dims=(2, 2), output_dims=(2, 2))\n"
     ]
    }
   ],
   "source": [
    "unitary = qi.Operator(ghz_circuit(2))\n",
    "print(unitary)"
   ]
  },
  {
   "cell_type": "markdown",
   "metadata": {
    "slideshow": {
     "slide_type": "subslide"
    }
   },
   "source": [
    "### Accessing the Numpy array\n",
    "\n",
    "* If you want the underlying Numpy array you can get it using the `.data` attribute"
   ]
  },
  {
   "cell_type": "code",
   "execution_count": 20,
   "metadata": {},
   "outputs": [
    {
     "data": {
      "text/plain": [
       "array([[ 0.70710678+0.j,  0.70710678+0.j,  0.        +0.j,\n",
       "         0.        +0.j],\n",
       "       [ 0.        +0.j,  0.        +0.j,  0.70710678+0.j,\n",
       "        -0.70710678+0.j],\n",
       "       [ 0.        +0.j,  0.        +0.j,  0.70710678+0.j,\n",
       "         0.70710678+0.j],\n",
       "       [ 0.70710678+0.j, -0.70710678+0.j,  0.        +0.j,\n",
       "         0.        +0.j]])"
      ]
     },
     "execution_count": 20,
     "metadata": {},
     "output_type": "execute_result"
    }
   ],
   "source": [
    "unitary.data"
   ]
  },
  {
   "cell_type": "code",
   "execution_count": 21,
   "metadata": {
    "slideshow": {
     "slide_type": "subslide"
    }
   },
   "outputs": [
    {
     "data": {
      "image/png": "[encoded data removed]",
      "text/plain": [
       "<Figure size 1080x360 with 2 Axes>"
      ]
     },
     "execution_count": 21,
     "metadata": {},
     "output_type": "execute_result"
    }
   ],
   "source": [
    "plot_state_city(unitary.data, title='Unitary')"
   ]
  },
  {
   "cell_type": "markdown",
   "metadata": {
    "slideshow": {
     "slide_type": "subslide"
    }
   },
   "source": [
    "### Applying circuit to a different initial unitary\n",
    "\n",
    "* We can also compose a quantum circuit with an `Operator` in an arbitrary initial state."
   ]
  },
  {
   "cell_type": "markdown",
   "metadata": {
    "slideshow": {
     "slide_type": "fragment"
    }
   },
   "source": [
    "* Applying a circuit to an arbitrary operator is done using `compose` method"
   ]
  },
  {
   "cell_type": "markdown",
   "metadata": {
    "slideshow": {
     "slide_type": "fragment"
    }
   },
   "source": [
    "* We can initialize an `Operator` in single-qubit tensor product state using the `from_label` method"
   ]
  },
  {
   "cell_type": "code",
   "execution_count": 22,
   "metadata": {
    "slideshow": {
     "slide_type": "subslide"
    }
   },
   "outputs": [
    {
     "name": "stdout",
     "output_type": "stream",
     "text": [
      "Operator([[0.+0.j, 0.+0.j, 0.+0.j, 1.+0.j],\n",
      "          [0.+0.j, 0.+0.j, 1.+0.j, 0.+0.j],\n",
      "          [0.+0.j, 1.+0.j, 0.+0.j, 0.+0.j],\n",
      "          [1.+0.j, 0.+0.j, 0.+0.j, 0.+0.j]],\n",
      "         input_dims=(2, 2), output_dims=(2, 2))\n"
     ]
    }
   ],
   "source": [
    "unitary = qi.Operator.from_label('XX')\n",
    "print(unitary)"
   ]
  },
  {
   "cell_type": "code",
   "execution_count": 23,
   "metadata": {
    "slideshow": {
     "slide_type": "fragment"
    }
   },
   "outputs": [
    {
     "data": {
      "text/plain": [
       "Operator([[ 0.        +0.j,  0.        +0.j,  0.70710678+0.j,\n",
       "            0.70710678+0.j],\n",
       "          [-0.70710678+0.j,  0.70710678+0.j,  0.        +0.j,\n",
       "            0.        +0.j],\n",
       "          [ 0.70710678+0.j,  0.70710678+0.j,  0.        +0.j,\n",
       "            0.        +0.j],\n",
       "          [ 0.        +0.j,  0.        +0.j, -0.70710678+0.j,\n",
       "            0.70710678+0.j]],\n",
       "         input_dims=(2, 2), output_dims=(2, 2))"
      ]
     },
     "execution_count": 23,
     "metadata": {},
     "output_type": "execute_result"
    }
   ],
   "source": [
    "unitary.compose(ghz_circuit(2))"
   ]
  },
  {
   "cell_type": "markdown",
   "metadata": {
    "slideshow": {
     "slide_type": "subslide"
    }
   },
   "source": [
    "### Example: applying GHZ circuit gates one at a time\n",
    "\n",
    "* Now we demonstate how to apply qiskit `Gate` objects one at a time to track the value of a circuit"
   ]
  },
  {
   "cell_type": "code",
   "execution_count": 24,
   "metadata": {
    "slideshow": {
     "slide_type": "fragment"
    }
   },
   "outputs": [
    {
     "name": "stdout",
     "output_type": "stream",
     "text": [
      "Step 0:\n",
      " Operator([[1.+0.j, 0.+0.j, 0.+0.j, 0.+0.j],\n",
      "          [0.+0.j, 1.+0.j, 0.+0.j, 0.+0.j],\n",
      "          [0.+0.j, 0.+0.j, 1.+0.j, 0.+0.j],\n",
      "          [0.+0.j, 0.+0.j, 0.+0.j, 1.+0.j]],\n",
      "         input_dims=(2, 2), output_dims=(2, 2))\n"
     ]
    }
   ],
   "source": [
    "H = HGate()\n",
    "CX = CXGate()\n",
    "\n",
    "unitary0 = qi.Operator.from_label('II')\n",
    "print('Step 0:\\n', unitary0)"
   ]
  },
  {
   "cell_type": "code",
   "execution_count": 25,
   "metadata": {
    "slideshow": {
     "slide_type": "subslide"
    }
   },
   "outputs": [
    {
     "name": "stdout",
     "output_type": "stream",
     "text": [
      "Step 1:\n",
      " Operator([[ 0.70710678+0.j,  0.70710678+0.j,  0.        +0.j,\n",
      "            0.        +0.j],\n",
      "          [ 0.70710678+0.j, -0.70710678+0.j,  0.        +0.j,\n",
      "            0.        +0.j],\n",
      "          [ 0.        +0.j,  0.        +0.j,  0.70710678+0.j,\n",
      "            0.70710678+0.j],\n",
      "          [ 0.        +0.j,  0.        +0.j,  0.70710678+0.j,\n",
      "           -0.70710678+0.j]],\n",
      "         input_dims=(2, 2), output_dims=(2, 2))\n"
     ]
    }
   ],
   "source": [
    "unitary1 = unitary0.compose(H, [0])\n",
    "print('Step 1:\\n', unitary1)"
   ]
  },
  {
   "cell_type": "code",
   "execution_count": 26,
   "metadata": {
    "slideshow": {
     "slide_type": "fragment"
    }
   },
   "outputs": [
    {
     "name": "stdout",
     "output_type": "stream",
     "text": [
      "Step 2:\n",
      " Operator([[ 0.70710678+0.j,  0.70710678+0.j,  0.        +0.j,\n",
      "            0.        +0.j],\n",
      "          [ 0.        +0.j,  0.        +0.j,  0.70710678+0.j,\n",
      "           -0.70710678+0.j],\n",
      "          [ 0.        +0.j,  0.        +0.j,  0.70710678+0.j,\n",
      "            0.70710678+0.j],\n",
      "          [ 0.70710678+0.j, -0.70710678+0.j,  0.        +0.j,\n",
      "            0.        +0.j]],\n",
      "         input_dims=(2, 2), output_dims=(2, 2))\n"
     ]
    }
   ],
   "source": [
    "\n",
    "unitary2 = unitary1.compose(CX, [0, 1])\n",
    "print('Step 2:\\n', unitary2)\n"
   ]
  },
  {
   "cell_type": "markdown",
   "metadata": {
    "slideshow": {
     "slide_type": "subslide"
    }
   },
   "source": [
    "### Additional Information\n",
    "*  `Operators` also have methods to compose, add, subtract, multiply, and tensor product them together. \n",
    "* We won't cover them here but see [Operator API documentation](https://qiskit.org/documentation/stubs/qiskit.quantum_info.Operator.html) for more details."
   ]
  },
  {
   "cell_type": "markdown",
   "metadata": {
    "slideshow": {
     "slide_type": "slide"
    }
   },
   "source": [
    "# Clifford Class\n",
    "\n",
    "* Next we consider a different type of operator that is *classically efficient* to simulate"
   ]
  },
  {
   "cell_type": "markdown",
   "metadata": {
    "slideshow": {
     "slide_type": "fragment"
    }
   },
   "source": [
    "* Clifford circuits are circuits that can be decomposed into X, Y, Z, H, S, CX, CY, CZ, SWAP gates"
   ]
  },
  {
   "cell_type": "markdown",
   "metadata": {
    "slideshow": {
     "slide_type": "fragment"
    }
   },
   "source": [
    "* A minimal set is H, S, CX"
   ]
  },
  {
   "cell_type": "markdown",
   "metadata": {
    "slideshow": {
     "slide_type": "fragment"
    }
   },
   "source": [
    "* We will now demonstate the [Clifford](https://qiskit.org/documentation/stubs/qiskit.quantum_info.Clifford.html) class"
   ]
  },
  {
   "cell_type": "markdown",
   "metadata": {
    "slideshow": {
     "slide_type": "subslide"
    }
   },
   "source": [
    "## Simulating a circuit with a `Clifford`\n",
    "\n",
    "* Like with an `Operator`, a `Clifford` can be initialized from a `QuantumCircuit` if it only contains Clifford gates, and no classical instructions\n",
    "* This will construct the `Clifford` operator for that circuit\n",
    "* A $N$-qubit circuit is returns a $2N \\times 2N$ boolean array and $2N$ boolean vector for a  `Clifford`"
   ]
  },
  {
   "cell_type": "markdown",
   "metadata": {
    "slideshow": {
     "slide_type": "subslide"
    }
   },
   "source": [
    "### Example 2-qubit GHZ (Bell) state circuit"
   ]
  },
  {
   "cell_type": "code",
   "execution_count": 27,
   "metadata": {
    "slideshow": {
     "slide_type": "-"
    }
   },
   "outputs": [
    {
     "data": {
      "text/plain": [
       "Clifford(StabilizerTable(\n",
       "array([[False, False,  True, False],\n",
       "       [False,  True, False, False],\n",
       "       [ True,  True, False, False],\n",
       "       [False, False,  True,  True]]),\n",
       "phase=array([False, False, False, False])))"
      ]
     },
     "execution_count": 27,
     "metadata": {},
     "output_type": "execute_result"
    }
   ],
   "source": [
    "cliff = qi.Clifford(ghz_circuit(2))\n",
    "cliff"
   ]
  },
  {
   "cell_type": "markdown",
   "metadata": {
    "slideshow": {
     "slide_type": "subslide"
    }
   },
   "source": [
    "## Clifford representation\n",
    "\n",
    "* Internally the Clifford is represnted as a [StabilizerTable](https://qiskit.org/documentation/stubs/qiskit.quantum_info.StabilizerTable.html) object.\n",
    "* This contains:\n",
    "  * A shape (2N,2N) boolean array (sympletic Pauli table)\n",
    "  * A shape (2N,) boolean vector (phase vector)"
   ]
  },
  {
   "cell_type": "markdown",
   "metadata": {
    "slideshow": {
     "slide_type": "subslide"
    }
   },
   "source": [
    "* These data structures can be accessed as follows:"
   ]
  },
  {
   "cell_type": "code",
   "execution_count": 28,
   "metadata": {
    "slideshow": {
     "slide_type": "fragment"
    }
   },
   "outputs": [
    {
     "data": {
      "text/plain": [
       "StabilizerTable(\n",
       "array([[False, False,  True, False],\n",
       "       [False,  True, False, False],\n",
       "       [ True,  True, False, False],\n",
       "       [False, False,  True,  True]]),\n",
       "phase=array([False, False, False, False]))"
      ]
     },
     "execution_count": 28,
     "metadata": {},
     "output_type": "execute_result"
    }
   ],
   "source": [
    "cliff.table"
   ]
  },
  {
   "cell_type": "code",
   "execution_count": 29,
   "metadata": {
    "slideshow": {
     "slide_type": "fragment"
    }
   },
   "outputs": [
    {
     "data": {
      "text/plain": [
       "array([[False, False,  True, False],\n",
       "       [False,  True, False, False],\n",
       "       [ True,  True, False, False],\n",
       "       [False, False,  True,  True]])"
      ]
     },
     "execution_count": 29,
     "metadata": {},
     "output_type": "execute_result"
    }
   ],
   "source": [
    "cliff.table.array"
   ]
  },
  {
   "cell_type": "code",
   "execution_count": 30,
   "metadata": {
    "slideshow": {
     "slide_type": "fragment"
    }
   },
   "outputs": [
    {
     "data": {
      "text/plain": [
       "array([False, False, False, False])"
      ]
     },
     "execution_count": 30,
     "metadata": {},
     "output_type": "execute_result"
    }
   ],
   "source": [
    "cliff.table.phase"
   ]
  },
  {
   "cell_type": "markdown",
   "metadata": {
    "slideshow": {
     "slide_type": "subslide"
    }
   },
   "source": [
    "## Human readible Clifford representation\n",
    "\n",
    "There is also a more human readable dictionary representaiton for a `Clifford`\n",
    "* You can use the `Clifford.to_dict` and `Clifford.from_dict` methods to convert"
   ]
  },
  {
   "cell_type": "code",
   "execution_count": 31,
   "metadata": {
    "slideshow": {
     "slide_type": "fragment"
    }
   },
   "outputs": [
    {
     "data": {
      "text/plain": [
       "{'stabilizer': ['+XX', '+ZZ'], 'destabilizer': ['+IZ', '+XI']}"
      ]
     },
     "execution_count": 31,
     "metadata": {},
     "output_type": "execute_result"
    }
   ],
   "source": [
    "cliff.to_dict()"
   ]
  },
  {
   "cell_type": "markdown",
   "metadata": {
    "slideshow": {
     "slide_type": "fragment"
    }
   },
   "source": [
    "The dict representation is displayed when you `print` a Clifford object"
   ]
  },
  {
   "cell_type": "code",
   "execution_count": 32,
   "metadata": {
    "slideshow": {
     "slide_type": "fragment"
    }
   },
   "outputs": [
    {
     "name": "stdout",
     "output_type": "stream",
     "text": [
      "Clifford: Stabilizer = ['+XX', '+ZZ'], Destabilizer = ['+IZ', '+XI']\n"
     ]
    }
   ],
   "source": [
    "print(cliff)"
   ]
  },
  {
   "cell_type": "markdown",
   "metadata": {
    "slideshow": {
     "slide_type": "subslide"
    }
   },
   "source": [
    "## Applying circuit or gates iteratively\n",
    "\n",
    "* As with `Operator` we can use the `compose` method of `Clifford` objects to compose quantum circuits, gates, or other clifford iteratively"
   ]
  },
  {
   "cell_type": "code",
   "execution_count": 33,
   "metadata": {
    "slideshow": {
     "slide_type": "fragment"
    }
   },
   "outputs": [
    {
     "name": "stdout",
     "output_type": "stream",
     "text": [
      "Step 0:\n",
      " Clifford: Stabilizer = ['+IIIZ', '+IIZI', '+IZII', '+ZIII'], Destabilizer = ['+IIIX', '+IIXI', '+IXII', '+XIII']\n"
     ]
    }
   ],
   "source": [
    "from qiskit.extensions import HGate, CXGate\n",
    "\n",
    "H = HGate()\n",
    "CX = CXGate()\n",
    "\n",
    "nq = 4\n",
    "cliff0 = qi.Clifford(np.eye(2 * nq))\n",
    "print('Step 0:\\n', cliff0)"
   ]
  },
  {
   "cell_type": "code",
   "execution_count": 34,
   "metadata": {
    "slideshow": {
     "slide_type": "subslide"
    }
   },
   "outputs": [
    {
     "name": "stdout",
     "output_type": "stream",
     "text": [
      "Step 1:\n",
      " Clifford: Stabilizer = ['+IIIX', '+IIZI', '+IZII', '+ZIII'], Destabilizer = ['+IIIZ', '+IIXI', '+IXII', '+XIII']\n",
      "Step 2:\n",
      " Clifford: Stabilizer = ['+IIXX', '+IIZZ', '+IZII', '+ZIII'], Destabilizer = ['+IIIZ', '+IIXI', '+IXII', '+XIII']\n",
      "Step 3:\n",
      " Clifford: Stabilizer = ['+IXXX', '+IIZZ', '+IZIZ', '+ZIII'], Destabilizer = ['+IIIZ', '+IIXI', '+IXII', '+XIII']\n",
      "Step 4:\n",
      " Clifford: Stabilizer = ['+XXXX', '+IIZZ', '+IZIZ', '+ZIIZ'], Destabilizer = ['+IIIZ', '+IIXI', '+IXII', '+XIII']\n"
     ]
    }
   ],
   "source": [
    "cliff1 = cliff0.compose(H, [0])\n",
    "print('Step 1:\\n', cliff1)\n",
    "\n",
    "cliff2 = cliff1.compose(CX, [0, 1])\n",
    "print('Step 2:\\n', cliff2)\n",
    "\n",
    "cliff3 = cliff2.compose(CX, [0, 2])\n",
    "print('Step 3:\\n', cliff3)\n",
    "\n",
    "cliff4 = cliff3.compose(CX, [0, 3])\n",
    "print('Step 4:\\n', cliff4)"
   ]
  },
  {
   "cell_type": "markdown",
   "metadata": {
    "slideshow": {
     "slide_type": "subslide"
    }
   },
   "source": [
    "### Efficient Simulation with Clifford\n",
    "\n",
    "We stated earlier that Clifford simulation is efficient"
   ]
  },
  {
   "cell_type": "markdown",
   "metadata": {
    "slideshow": {
     "slide_type": "fragment"
    }
   },
   "source": [
    "Lets demonstrate with our GHZ example simulating from 10 to 10,000 qubits."
   ]
  },
  {
   "cell_type": "markdown",
   "metadata": {
    "slideshow": {
     "slide_type": "subslide"
    }
   },
   "source": [
    "![Clifford Simulation](benchmarks/t_sim_clifford.png)"
   ]
  },
  {
   "cell_type": "markdown",
   "metadata": {
    "slideshow": {
     "slide_type": "subslide"
    }
   },
   "source": [
    "### Additional Information\n",
    "*  `Clifford` operators also have methods to compose and tensor product them together. \n",
    "* See the [Clifford API documentation](https://qiskit.org/documentation/stubs/qiskit.quantum_info.Clifford.html) for more details."
   ]
  },
  {
   "cell_type": "markdown",
   "metadata": {
    "slideshow": {
     "slide_type": "slide"
    }
   },
   "source": [
    "# SuperOp Class\n",
    "\n",
    "If we want to include non-unitary quantum instructions in our circuit (such as noise) we can no longer use the `Operator` class."
   ]
  },
  {
   "cell_type": "markdown",
   "metadata": {
    "slideshow": {
     "slide_type": "fragment"
    }
   },
   "source": [
    "Our circuit is no-longer unitary. It is a generalization called a `QuantumChannel`."
   ]
  },
  {
   "cell_type": "markdown",
   "metadata": {
    "slideshow": {
     "slide_type": "subslide"
    }
   },
   "source": [
    "### Representations of quantum channels\n",
    "\n",
    "We can use several different classes to represent `QuantumChannels`:"
   ]
  },
  {
   "cell_type": "markdown",
   "metadata": {
    "slideshow": {
     "slide_type": "fragment"
    }
   },
   "source": [
    "* [SuperOp](https://qiskit.org/documentation/stubs/qiskit.quantum_info.SuperOp.html)\n",
    "* [Kraus](https://qiskit.org/documentation/stubs/qiskit.quantum_info.Kraus.html)\n",
    "* [Choi](https://qiskit.org/documentation/stubs/qiskit.quantum_info.Choi.html)\n",
    "* [Stinespring](https://qiskit.org/documentation/stubs/qiskit.quantum_info.Stinespring.html)\n",
    "* [PTM](https://qiskit.org/documentation/stubs/qiskit.quantum_info.PTM.html)\n",
    "* [Chi](https://qiskit.org/documentation/stubs/qiskit.quantum_info.Chi.html)"
   ]
  },
  {
   "cell_type": "markdown",
   "metadata": {
    "slideshow": {
     "slide_type": "fragment"
    }
   },
   "source": [
    "We will focus on the `SuperOp` class here as it is what is used for simulation of noisy circuits."
   ]
  },
  {
   "cell_type": "markdown",
   "metadata": {
    "slideshow": {
     "slide_type": "subslide"
    }
   },
   "source": [
    "## Simulating a circuit with a `SuperOp`\n",
    "\n",
    "* An `SuperOp` can be initimalized from a `QuantumCircuit` if it has no classical instructions."
   ]
  },
  {
   "cell_type": "markdown",
   "metadata": {
    "slideshow": {
     "slide_type": "fragment"
    }
   },
   "source": [
    "* Circuit can also include reset instructions"
   ]
  },
  {
   "cell_type": "markdown",
   "metadata": {
    "slideshow": {
     "slide_type": "fragment"
    }
   },
   "source": [
    "* This will construct the Quantum channel `SuperOp` for that circuit\n",
    "* A $N$-qubit circuit returns a $4^N \\times 4^N$ dimensional complex array for a `SuperOp`"
   ]
  },
  {
   "cell_type": "markdown",
   "metadata": {
    "slideshow": {
     "slide_type": "subslide"
    }
   },
   "source": [
    "### Example 2-qubit GHZ (Bell) state circuit"
   ]
  },
  {
   "cell_type": "code",
   "execution_count": 35,
   "metadata": {
    "slideshow": {
     "slide_type": "fragment"
    }
   },
   "outputs": [
    {
     "data": {
      "text/plain": [
       "SuperOp([[ 0.5+0.j,  0.5+0.j,  0. +0.j,  0. +0.j,  0.5+0.j,  0.5+0.j,\n",
       "           0. +0.j,  0. +0.j,  0. +0.j,  0. +0.j,  0. +0.j,  0. +0.j,\n",
       "           0. +0.j,  0. +0.j,  0. +0.j,  0. +0.j],\n",
       "         [ 0. +0.j,  0. +0.j,  0.5+0.j, -0.5+0.j,  0. +0.j,  0. +0.j,\n",
       "           0.5+0.j, -0.5+0.j,  0. +0.j,  0. +0.j,  0. +0.j,  0. +0.j,\n",
       "           0. +0.j,  0. +0.j,  0. +0.j,  0. +0.j],\n",
       "         [ 0. +0.j,  0. +0.j,  0.5+0.j,  0.5+0.j,  0. +0.j,  0. +0.j,\n",
       "           0.5+0.j,  0.5+0.j,  0. +0.j,  0. +0.j,  0. +0.j,  0. +0.j,\n",
       "           0. +0.j,  0. +0.j,  0. +0.j,  0. +0.j],\n",
       "         [ 0.5+0.j, -0.5+0.j,  0. +0.j,  0. +0.j,  0.5+0.j, -0.5+0.j,\n",
       "           0. +0.j,  0. +0.j,  0. +0.j,  0. +0.j,  0. +0.j,  0. +0.j,\n",
       "           0. +0.j,  0. +0.j,  0. +0.j,  0. +0.j],\n",
       "         [ 0. +0.j,  0. +0.j,  0. +0.j,  0. +0.j,  0. +0.j,  0. +0.j,\n",
       "           0. +0.j,  0. +0.j,  0.5+0.j,  0.5+0.j,  0. +0.j,  0. +0.j,\n",
       "          -0.5+0.j, -0.5+0.j,  0. +0.j,  0. +0.j],\n",
       "         [ 0. +0.j,  0. +0.j,  0. +0.j,  0. +0.j,  0. +0.j,  0. +0.j,\n",
       "           0. +0.j,  0. +0.j,  0. +0.j,  0. +0.j,  0.5+0.j, -0.5+0.j,\n",
       "           0. +0.j,  0. +0.j, -0.5+0.j,  0.5+0.j],\n",
       "         [ 0. +0.j,  0. +0.j,  0. +0.j,  0. +0.j,  0. +0.j,  0. +0.j,\n",
       "           0. +0.j,  0. +0.j,  0. +0.j,  0. +0.j,  0.5+0.j,  0.5+0.j,\n",
       "           0. +0.j,  0. +0.j, -0.5+0.j, -0.5+0.j],\n",
       "         [ 0. +0.j,  0. +0.j,  0. +0.j,  0. +0.j,  0. +0.j,  0. +0.j,\n",
       "           0. +0.j,  0. +0.j,  0.5+0.j, -0.5+0.j,  0. +0.j,  0. +0.j,\n",
       "          -0.5+0.j,  0.5+0.j,  0. +0.j,  0. +0.j],\n",
       "         [ 0. +0.j,  0. +0.j,  0. +0.j,  0. +0.j,  0. +0.j,  0. +0.j,\n",
       "           0. +0.j,  0. +0.j,  0.5+0.j,  0.5+0.j,  0. +0.j,  0. +0.j,\n",
       "           0.5+0.j,  0.5+0.j,  0. +0.j,  0. +0.j],\n",
       "         [ 0. +0.j,  0. +0.j,  0. +0.j,  0. +0.j,  0. +0.j,  0. +0.j,\n",
       "           0. +0.j,  0. +0.j,  0. +0.j,  0. +0.j,  0.5+0.j, -0.5+0.j,\n",
       "           0. +0.j,  0. +0.j,  0.5+0.j, -0.5+0.j],\n",
       "         [ 0. +0.j,  0. +0.j,  0. +0.j,  0. +0.j,  0. +0.j,  0. +0.j,\n",
       "           0. +0.j,  0. +0.j,  0. +0.j,  0. +0.j,  0.5+0.j,  0.5+0.j,\n",
       "           0. +0.j,  0. +0.j,  0.5+0.j,  0.5+0.j],\n",
       "         [ 0. +0.j,  0. +0.j,  0. +0.j,  0. +0.j,  0. +0.j,  0. +0.j,\n",
       "           0. +0.j,  0. +0.j,  0.5+0.j, -0.5+0.j,  0. +0.j,  0. +0.j,\n",
       "           0.5+0.j, -0.5+0.j,  0. +0.j,  0. +0.j],\n",
       "         [ 0.5+0.j,  0.5+0.j,  0. +0.j,  0. +0.j, -0.5+0.j, -0.5+0.j,\n",
       "           0. +0.j,  0. +0.j,  0. +0.j,  0. +0.j,  0. +0.j,  0. +0.j,\n",
       "           0. +0.j,  0. +0.j,  0. +0.j,  0. +0.j],\n",
       "         [ 0. +0.j,  0. +0.j,  0.5+0.j, -0.5+0.j,  0. +0.j,  0. +0.j,\n",
       "          -0.5+0.j,  0.5+0.j,  0. +0.j,  0. +0.j,  0. +0.j,  0. +0.j,\n",
       "           0. +0.j,  0. +0.j,  0. +0.j,  0. +0.j],\n",
       "         [ 0. +0.j,  0. +0.j,  0.5+0.j,  0.5+0.j,  0. +0.j,  0. +0.j,\n",
       "          -0.5+0.j, -0.5+0.j,  0. +0.j,  0. +0.j,  0. +0.j,  0. +0.j,\n",
       "           0. +0.j,  0. +0.j,  0. +0.j,  0. +0.j],\n",
       "         [ 0.5+0.j, -0.5+0.j,  0. +0.j,  0. +0.j, -0.5+0.j,  0.5+0.j,\n",
       "           0. +0.j,  0. +0.j,  0. +0.j,  0. +0.j,  0. +0.j,  0. +0.j,\n",
       "           0. +0.j,  0. +0.j,  0. +0.j,  0. +0.j]],\n",
       "        input_dims=(2, 2), output_dims=(2, 2))"
      ]
     },
     "execution_count": 35,
     "metadata": {},
     "output_type": "execute_result"
    }
   ],
   "source": [
    "sop = qi.SuperOp(ghz_circuit(2))\n",
    "sop"
   ]
  },
  {
   "cell_type": "markdown",
   "metadata": {
    "slideshow": {
     "slide_type": "subslide"
    }
   },
   "source": [
    "### Accessing the Numpy array\n",
    "\n",
    "* Like `Operator`, if you want the underlying Numpy array you can get it using the `.data` attribute"
   ]
  },
  {
   "cell_type": "code",
   "execution_count": 36,
   "metadata": {
    "slideshow": {
     "slide_type": "fragment"
    }
   },
   "outputs": [
    {
     "data": {
      "text/plain": [
       "array([[ 0.5+0.j,  0.5+0.j,  0. +0.j,  0. +0.j,  0.5+0.j,  0.5+0.j,\n",
       "         0. +0.j,  0. +0.j,  0. +0.j,  0. +0.j,  0. +0.j,  0. +0.j,\n",
       "         0. +0.j,  0. +0.j,  0. +0.j,  0. +0.j],\n",
       "       [ 0. +0.j,  0. +0.j,  0.5+0.j, -0.5+0.j,  0. +0.j,  0. +0.j,\n",
       "         0.5+0.j, -0.5+0.j,  0. +0.j,  0. +0.j,  0. +0.j,  0. +0.j,\n",
       "         0. +0.j,  0. +0.j,  0. +0.j,  0. +0.j],\n",
       "       [ 0. +0.j,  0. +0.j,  0.5+0.j,  0.5+0.j,  0. +0.j,  0. +0.j,\n",
       "         0.5+0.j,  0.5+0.j,  0. +0.j,  0. +0.j,  0. +0.j,  0. +0.j,\n",
       "         0. +0.j,  0. +0.j,  0. +0.j,  0. +0.j],\n",
       "       [ 0.5+0.j, -0.5+0.j,  0. +0.j,  0. +0.j,  0.5+0.j, -0.5+0.j,\n",
       "         0. +0.j,  0. +0.j,  0. +0.j,  0. +0.j,  0. +0.j,  0. +0.j,\n",
       "         0. +0.j,  0. +0.j,  0. +0.j,  0. +0.j],\n",
       "       [ 0. +0.j,  0. +0.j,  0. +0.j,  0. +0.j,  0. +0.j,  0. +0.j,\n",
       "         0. +0.j,  0. +0.j,  0.5+0.j,  0.5+0.j,  0. +0.j,  0. +0.j,\n",
       "        -0.5+0.j, -0.5+0.j,  0. +0.j,  0. +0.j],\n",
       "       [ 0. +0.j,  0. +0.j,  0. +0.j,  0. +0.j,  0. +0.j,  0. +0.j,\n",
       "         0. +0.j,  0. +0.j,  0. +0.j,  0. +0.j,  0.5+0.j, -0.5+0.j,\n",
       "         0. +0.j,  0. +0.j, -0.5+0.j,  0.5+0.j],\n",
       "       [ 0. +0.j,  0. +0.j,  0. +0.j,  0. +0.j,  0. +0.j,  0. +0.j,\n",
       "         0. +0.j,  0. +0.j,  0. +0.j,  0. +0.j,  0.5+0.j,  0.5+0.j,\n",
       "         0. +0.j,  0. +0.j, -0.5+0.j, -0.5+0.j],\n",
       "       [ 0. +0.j,  0. +0.j,  0. +0.j,  0. +0.j,  0. +0.j,  0. +0.j,\n",
       "         0. +0.j,  0. +0.j,  0.5+0.j, -0.5+0.j,  0. +0.j,  0. +0.j,\n",
       "        -0.5+0.j,  0.5+0.j,  0. +0.j,  0. +0.j],\n",
       "       [ 0. +0.j,  0. +0.j,  0. +0.j,  0. +0.j,  0. +0.j,  0. +0.j,\n",
       "         0. +0.j,  0. +0.j,  0.5+0.j,  0.5+0.j,  0. +0.j,  0. +0.j,\n",
       "         0.5+0.j,  0.5+0.j,  0. +0.j,  0. +0.j],\n",
       "       [ 0. +0.j,  0. +0.j,  0. +0.j,  0. +0.j,  0. +0.j,  0. +0.j,\n",
       "         0. +0.j,  0. +0.j,  0. +0.j,  0. +0.j,  0.5+0.j, -0.5+0.j,\n",
       "         0. +0.j,  0. +0.j,  0.5+0.j, -0.5+0.j],\n",
       "       [ 0. +0.j,  0. +0.j,  0. +0.j,  0. +0.j,  0. +0.j,  0. +0.j,\n",
       "         0. +0.j,  0. +0.j,  0. +0.j,  0. +0.j,  0.5+0.j,  0.5+0.j,\n",
       "         0. +0.j,  0. +0.j,  0.5+0.j,  0.5+0.j],\n",
       "       [ 0. +0.j,  0. +0.j,  0. +0.j,  0. +0.j,  0. +0.j,  0. +0.j,\n",
       "         0. +0.j,  0. +0.j,  0.5+0.j, -0.5+0.j,  0. +0.j,  0. +0.j,\n",
       "         0.5+0.j, -0.5+0.j,  0. +0.j,  0. +0.j],\n",
       "       [ 0.5+0.j,  0.5+0.j,  0. +0.j,  0. +0.j, -0.5+0.j, -0.5+0.j,\n",
       "         0. +0.j,  0. +0.j,  0. +0.j,  0. +0.j,  0. +0.j,  0. +0.j,\n",
       "         0. +0.j,  0. +0.j,  0. +0.j,  0. +0.j],\n",
       "       [ 0. +0.j,  0. +0.j,  0.5+0.j, -0.5+0.j,  0. +0.j,  0. +0.j,\n",
       "        -0.5+0.j,  0.5+0.j,  0. +0.j,  0. +0.j,  0. +0.j,  0. +0.j,\n",
       "         0. +0.j,  0. +0.j,  0. +0.j,  0. +0.j],\n",
       "       [ 0. +0.j,  0. +0.j,  0.5+0.j,  0.5+0.j,  0. +0.j,  0. +0.j,\n",
       "        -0.5+0.j, -0.5+0.j,  0. +0.j,  0. +0.j,  0. +0.j,  0. +0.j,\n",
       "         0. +0.j,  0. +0.j,  0. +0.j,  0. +0.j],\n",
       "       [ 0.5+0.j, -0.5+0.j,  0. +0.j,  0. +0.j, -0.5+0.j,  0.5+0.j,\n",
       "         0. +0.j,  0. +0.j,  0. +0.j,  0. +0.j,  0. +0.j,  0. +0.j,\n",
       "         0. +0.j,  0. +0.j,  0. +0.j,  0. +0.j]])"
      ]
     },
     "execution_count": 36,
     "metadata": {},
     "output_type": "execute_result"
    }
   ],
   "source": [
    "sop.data"
   ]
  },
  {
   "cell_type": "code",
   "execution_count": 37,
   "metadata": {
    "slideshow": {
     "slide_type": "subslide"
    }
   },
   "outputs": [
    {
     "data": {
      "image/png": "[encoded data removed]",
      "text/plain": [
       "<Figure size 1080x360 with 2 Axes>"
      ]
     },
     "execution_count": 37,
     "metadata": {},
     "output_type": "execute_result"
    }
   ],
   "source": [
    "plot_state_city(sop.data, title='Superoperator')"
   ]
  },
  {
   "cell_type": "markdown",
   "metadata": {
    "slideshow": {
     "slide_type": "subslide"
    }
   },
   "source": [
    "### Converting to another Quantum Channel representation\n",
    "\n",
    "* If you want to use a different representation (ie `Kraus` or `PTM`) you can convert between them easily."
   ]
  },
  {
   "cell_type": "markdown",
   "metadata": {
    "slideshow": {
     "slide_type": "fragment"
    }
   },
   "source": [
    "### Example: convert `SuperOp` to `Kraus`"
   ]
  },
  {
   "cell_type": "code",
   "execution_count": 38,
   "metadata": {
    "slideshow": {
     "slide_type": "fragment"
    }
   },
   "outputs": [
    {
     "data": {
      "text/plain": [
       "Kraus([[[-0.70710678-0.j, -0.70710678+0.j,  0.        +0.j,\n",
       "          0.        +0.j],\n",
       "        [ 0.        +0.j,  0.        +0.j, -0.70710678+0.j,\n",
       "          0.70710678+0.j],\n",
       "        [ 0.        +0.j,  0.        +0.j, -0.70710678+0.j,\n",
       "         -0.70710678-0.j],\n",
       "        [-0.70710678+0.j,  0.70710678+0.j,  0.        +0.j,\n",
       "          0.        +0.j]]],\n",
       "      input_dims=(2, 2), output_dims=(2, 2))"
      ]
     },
     "execution_count": 38,
     "metadata": {},
     "output_type": "execute_result"
    }
   ],
   "source": [
    "qi.Kraus(sop)"
   ]
  },
  {
   "cell_type": "markdown",
   "metadata": {
    "slideshow": {
     "slide_type": "subslide"
    }
   },
   "source": [
    "You can also go straight from a `QuantumCircuit` to another quantum channel\n",
    "* Behind the scenes this still does simulation as a `SuperOp` and then converts the output for you"
   ]
  },
  {
   "cell_type": "code",
   "execution_count": 39,
   "metadata": {
    "slideshow": {
     "slide_type": "fragment"
    }
   },
   "outputs": [
    {
     "data": {
      "text/plain": [
       "Kraus([[[-0.70710678-0.j, -0.70710678+0.j,  0.        +0.j,\n",
       "          0.        +0.j],\n",
       "        [ 0.        +0.j,  0.        +0.j, -0.70710678+0.j,\n",
       "          0.70710678+0.j],\n",
       "        [ 0.        +0.j,  0.        +0.j, -0.70710678+0.j,\n",
       "         -0.70710678-0.j],\n",
       "        [-0.70710678+0.j,  0.70710678+0.j,  0.        +0.j,\n",
       "          0.        +0.j]]],\n",
       "      input_dims=(2, 2), output_dims=(2, 2))"
      ]
     },
     "execution_count": 39,
     "metadata": {},
     "output_type": "execute_result"
    }
   ],
   "source": [
    "qi.Kraus(ghz_circuit(2))"
   ]
  },
  {
   "cell_type": "markdown",
   "metadata": {
    "slideshow": {
     "slide_type": "subslide"
    }
   },
   "source": [
    "### Converting to an Operator\n",
    "\n",
    "* You can also convert a QuantumChannel to an operator **if** it is a unitary.\n",
    "* Note this is expensive (involves a eigen-decomposition)\n",
    "* If you know input is unitary, better to use `Operator` directly"
   ]
  },
  {
   "cell_type": "code",
   "execution_count": 40,
   "metadata": {
    "slideshow": {
     "slide_type": "fragment"
    }
   },
   "outputs": [
    {
     "data": {
      "text/plain": [
       "Operator([[-0.70710678-0.j, -0.70710678+0.j,  0.        +0.j,\n",
       "            0.        +0.j],\n",
       "          [ 0.        +0.j,  0.        +0.j, -0.70710678+0.j,\n",
       "            0.70710678+0.j],\n",
       "          [ 0.        +0.j,  0.        +0.j, -0.70710678+0.j,\n",
       "           -0.70710678-0.j],\n",
       "          [-0.70710678+0.j,  0.70710678+0.j,  0.        +0.j,\n",
       "            0.        +0.j]],\n",
       "         input_dims=(2, 2), output_dims=(2, 2))"
      ]
     },
     "execution_count": 40,
     "metadata": {},
     "output_type": "execute_result"
    }
   ],
   "source": [
    "qi.Operator(sop)"
   ]
  },
  {
   "cell_type": "markdown",
   "metadata": {
    "slideshow": {
     "slide_type": "subslide"
    }
   },
   "source": [
    "### Additional Information\n",
    "*  `SuperOp` also have methods to compose, add, subtract, multiply, and tensor product them together.\n",
    "* They can be converted into other representations (ie `Kraus`, `PTM` etc) easily.\n",
    "* We won't cover them here but see [SuperOp API documentation](https://qiskit.org/documentation/stubs/qiskit.quantum_info.SuperOp.html) for more details.\n",
    "\n",
    "For more information about Quantum channel representations used in Qiskit see review paper: \n",
    "\n",
    "* CJ Wood, JD Biamonte, DG. Cory, Tensor networks and graphical calculus for open quantum systems* [arXiv:1111.6950 (quant-ph)](https://arxiv.org/abs/1111.6950)"
   ]
  },
  {
   "cell_type": "markdown",
   "metadata": {
    "slideshow": {
     "slide_type": "slide"
    }
   },
   "source": [
    "# Simulation Cost\n",
    "\n",
    "* `Statevector`, `DensityMatrix`, `Clifford`, `Operator`, `SuperOp` all have different scaling"
   ]
  },
  {
   "cell_type": "markdown",
   "metadata": {
    "slideshow": {
     "slide_type": "fragment"
    }
   },
   "source": [
    "| Class |  Allowed Circuit Types |Simulation Time | Simulation Memory |\n",
    "| --- | --- | --- | --- |\n",
    "| [Clifford](https://qiskit.org/documentation/stubs/qiskit.quantum_info.Clifford.html) | Clifford circuits | $O(N)$ | $O(N^2)$ |\n",
    "| [Statevector](https://qiskit.org/documentation/stubs/qiskit.quantum_info.Statevector.html) | Unitary circuits | $O(2^N)$ | $O(2^N)$ |\n",
    "| [Operator](https://qiskit.org/documentation/stubs/qiskit.quantum_info.Operator.html) | Unitary circuits | $O(4^{N})$ | $O(4^{N})$ |\n",
    "| [DensityMatrix](https://qiskit.org/documentation/stubs/qiskit.quantum_info.DensityMatrix.html) | Quantum channel (non-unitary) circuits | $O(4^{N})$ | $O(4^{N})$ |\n",
    "| [SuperOp](https://qiskit.org/documentation/stubs/qiskit.quantum_info.SuperOp.html) | Quantum channel (non-unitary) circuits |$O(16^{N})$ | $O(16^{N})$ |"
   ]
  },
  {
   "cell_type": "markdown",
   "metadata": {
    "slideshow": {
     "slide_type": "subslide"
    }
   },
   "source": [
    "![Circuit Simulation](benchmarks/t_sim.png)"
   ]
  },
  {
   "cell_type": "markdown",
   "metadata": {
    "slideshow": {
     "slide_type": "slide"
    }
   },
   "source": [
    "# Inserting Quantum Operators into Circuits\n",
    "\n",
    "Now that we have shown how to simulate circuits with operators, we show how we can also use operators in circuits"
   ]
  },
  {
   "cell_type": "markdown",
   "metadata": {
    "slideshow": {
     "slide_type": "subslide"
    }
   },
   "source": [
    "## Inserting a random unitary into a circuit\n",
    "\n",
    "We will use the [random_unitary](https://qiskit.org/documentation/stubs/qiskit.quantum_info.random_unitary.html) function to generate 1 and 2-qubit random unitary matrices and insert them into a `QuantumCircuit`."
   ]
  },
  {
   "cell_type": "markdown",
   "metadata": {
    "slideshow": {
     "slide_type": "fragment"
    }
   },
   "source": [
    "* `random_unitary` returns a unitary `Operator` object\n",
    "* An `Operator` can be added to a `QuantumCircuit` using the `append` method."
   ]
  },
  {
   "cell_type": "code",
   "execution_count": 41,
   "metadata": {
    "slideshow": {
     "slide_type": "subslide"
    }
   },
   "outputs": [
    {
     "data": {
      "text/html": [
       "<pre style=\"word-wrap: normal;white-space: pre;background: #fff0;line-height: 1.1;font-family: &quot;Courier New&quot;,Courier,monospace\">     ┌─────────┐┌──────────┐\n",
       "q_0: ┤ Unitary ├┤0         ├\n",
       "     └─────────┘│  Unitary │\n",
       "q_1: ───────────┤1         ├\n",
       "                └──────────┘</pre>"
      ],
      "text/plain": [
       "     ┌─────────┐┌──────────┐\n",
       "q_0: ┤ Unitary ├┤0         ├\n",
       "     └─────────┘│  Unitary │\n",
       "q_1: ───────────┤1         ├\n",
       "                └──────────┘"
      ]
     },
     "execution_count": 41,
     "metadata": {},
     "output_type": "execute_result"
    }
   ],
   "source": [
    "# Generate random unitary operator\n",
    "u1q = qi.random_unitary(2)\n",
    "u2q = qi.random_unitary(2 ** 2)\n",
    "\n",
    "# Can be added to a circuit\n",
    "circ = qiskit.QuantumCircuit(2)\n",
    "circ.append(u1q, [0])\n",
    "circ.append(u2q, [0, 1])\n",
    "circ.draw()"
   ]
  },
  {
   "cell_type": "markdown",
   "metadata": {
    "slideshow": {
     "slide_type": "subslide"
    }
   },
   "source": [
    "### Transpiling to basis gates\n",
    "\n",
    "We can transpile arbitrary unitaries into a basis gate that could be run on an actual device."
   ]
  },
  {
   "cell_type": "markdown",
   "metadata": {
    "slideshow": {
     "slide_type": "fragment"
    }
   },
   "source": [
    "* Transpiling involves a *synthesis* algorithm to decompose an operator into gates\n",
    "* *NOTE: currently this only works for 1 and 2-qubit `Operator`*"
   ]
  },
  {
   "cell_type": "code",
   "execution_count": 42,
   "metadata": {
    "slideshow": {
     "slide_type": "subslide"
    }
   },
   "outputs": [
    {
     "data": {
      "text/html": [
       "<pre style=\"word-wrap: normal;white-space: pre;background: #fff0;line-height: 1.1;font-family: &quot;Courier New&quot;,Courier,monospace\">       ┌──────────────────────────┐       ┌───────────────────────┐      »\n",
       "q_0: ──┤ U3(2.1491,3.7424,2.0503) ├────■──┤ U3(0.81151,pi/2,pi/2) ├───■──»\n",
       "     ┌─┴──────────────────────────┴─┐┌─┴─┐├───────────────────────┴┐┌─┴─┐»\n",
       "q_1: ┤ U3(0.62186,-3.5884,-0.37915) ├┤ X ├┤ U3(pi/2,-pi/1,0.48211) ├┤ X ├»\n",
       "     └──────────────────────────────┘└───┘└────────────────────────┘└───┘»\n",
       "«     ┌─────────────────────┐     ┌───────────────────────────────┐\n",
       "«q_0: ┤ U3(0.36029,0,3pi/2) ├──■──┤ U3(0.62604,1.0501,-0.0099374) ├\n",
       "«     └─┬──────────────────┬┘┌─┴─┐└─┬────────────────────────────┬┘\n",
       "«q_1: ──┤ U3(pi/2,0,3pi/2) ├─┤ X ├──┤ U3(0.93528,-2.6797,1.5209) ├─\n",
       "«       └──────────────────┘ └───┘  └────────────────────────────┘ </pre>"
      ],
      "text/plain": [
       "       ┌──────────────────────────┐       ┌───────────────────────┐      »\n",
       "q_0: ──┤ U3(2.1491,3.7424,2.0503) ├────■──┤ U3(0.81151,pi/2,pi/2) ├───■──»\n",
       "     ┌─┴──────────────────────────┴─┐┌─┴─┐├───────────────────────┴┐┌─┴─┐»\n",
       "q_1: ┤ U3(0.62186,-3.5884,-0.37915) ├┤ X ├┤ U3(pi/2,-pi/1,0.48211) ├┤ X ├»\n",
       "     └──────────────────────────────┘└───┘└────────────────────────┘└───┘»\n",
       "«     ┌─────────────────────┐     ┌───────────────────────────────┐\n",
       "«q_0: ┤ U3(0.36029,0,3pi/2) ├──■──┤ U3(0.62604,1.0501,-0.0099374) ├\n",
       "«     └─┬──────────────────┬┘┌─┴─┐└─┬────────────────────────────┬┘\n",
       "«q_1: ──┤ U3(pi/2,0,3pi/2) ├─┤ X ├──┤ U3(0.93528,-2.6797,1.5209) ├─\n",
       "«       └──────────────────┘ └───┘  └────────────────────────────┘ "
      ]
     },
     "execution_count": 42,
     "metadata": {},
     "output_type": "execute_result"
    }
   ],
   "source": [
    "# Decompose into basis gates\n",
    "circ_basis = qiskit.transpile(circ, basis_gates=['u3', 'cx'])\n",
    "circ_basis.draw()"
   ]
  },
  {
   "cell_type": "markdown",
   "metadata": {
    "slideshow": {
     "slide_type": "subslide"
    }
   },
   "source": [
    "### Checking transpilation\n",
    "\n",
    "We can then check the transpiled circuit is equivalent to the original circuit."
   ]
  },
  {
   "cell_type": "markdown",
   "metadata": {
    "slideshow": {
     "slide_type": "fragment"
    }
   },
   "source": [
    "* We can do this using operator *measures* in `quantum_info`.\n",
    "* We will use the [average_gate_fidelity](https://qiskit.org/documentation/stubs/qiskit.quantum_info.average_gate_fidelity.html) function for this"
   ]
  },
  {
   "cell_type": "code",
   "execution_count": 43,
   "metadata": {
    "slideshow": {
     "slide_type": "fragment"
    }
   },
   "outputs": [
    {
     "data": {
      "text/plain": [
       "0.9999999999999997"
      ]
     },
     "execution_count": 43,
     "metadata": {},
     "output_type": "execute_result"
    }
   ],
   "source": [
    "# Can then still simulate back to an operator\n",
    "op1 = qi.Operator(circ)\n",
    "op2 = qi.Operator(circ_basis)\n",
    "qi.average_gate_fidelity(op1, op2)"
   ]
  },
  {
   "cell_type": "markdown",
   "metadata": {
    "slideshow": {
     "slide_type": "subslide"
    }
   },
   "source": [
    "## Inserting a random clifford into a circuit\n",
    "\n",
    "* There is also a [random_clifford](https://qiskit.org/documentation/stubs/qiskit.quantum_info.random_clifford.html) function we can use to generate a random N-qubit `Clifford` object\n",
    "* This can also be inserted into a circuit"
   ]
  },
  {
   "cell_type": "code",
   "execution_count": 44,
   "metadata": {
    "slideshow": {
     "slide_type": "subslide"
    }
   },
   "outputs": [
    {
     "data": {
      "text/html": [
       "<pre style=\"word-wrap: normal;white-space: pre;background: #fff0;line-height: 1.1;font-family: &quot;Courier New&quot;,Courier,monospace\">     ┌───────────────────────────────────────────────────────────────────────┐\n",
       "q_0: ┤0                                                                      ├\n",
       "     │  Clifford: stabilizer = ['-iz', '-yi'], destabilizer = ['+ix', '+zi'] │\n",
       "q_1: ┤1                                                                      ├\n",
       "     └───────────────────────────────────────────────────────────────────────┘</pre>"
      ],
      "text/plain": [
       "     ┌───────────────────────────────────────────────────────────────────────┐\n",
       "q_0: ┤0                                                                      ├\n",
       "     │  Clifford: stabilizer = ['-iz', '-yi'], destabilizer = ['+ix', '+zi'] │\n",
       "q_1: ┤1                                                                      ├\n",
       "     └───────────────────────────────────────────────────────────────────────┘"
      ]
     },
     "execution_count": 44,
     "metadata": {},
     "output_type": "execute_result"
    }
   ],
   "source": [
    "# Generate a random clifford\n",
    "rc = qi.random_clifford(2)\n",
    "\n",
    "# Can be added to a circuit\n",
    "circ = qiskit.QuantumCircuit(2)\n",
    "circ.append(rc, [0, 1])\n",
    "circ.draw()"
   ]
  },
  {
   "cell_type": "markdown",
   "metadata": {
    "slideshow": {
     "slide_type": "subslide"
    }
   },
   "source": [
    "### Clifford Synthesis\n",
    "\n",
    "* To execute a Clifford it can be synthezed into Clifford gates"
   ]
  },
  {
   "cell_type": "markdown",
   "metadata": {
    "slideshow": {
     "slide_type": "fragment"
    }
   },
   "source": [
    "* In qiskit this synthesis is *optimal* in the number of CX gates in the decomposition for up to 3-qubits\n",
    "  * Method based on *S. Bravyi and D. Maslov, Hadamard-free circuits expose the structure of the Clifford group*  [arXiv:2003.09412 [quant-ph]](https://arxiv.org/abs/2003.09412)"
   ]
  },
  {
   "cell_type": "markdown",
   "metadata": {
    "slideshow": {
     "slide_type": "fragment"
    }
   },
   "source": [
    "* Decomposition for N > 3 qubits still works but is not optimal"
   ]
  },
  {
   "cell_type": "markdown",
   "metadata": {
    "slideshow": {
     "slide_type": "subslide"
    }
   },
   "source": [
    "### Example: 3-qubit optimal Clifford synthesis"
   ]
  },
  {
   "cell_type": "code",
   "execution_count": 45,
   "metadata": {
    "slideshow": {
     "slide_type": "-"
    }
   },
   "outputs": [],
   "source": [
    "# Basis gates for Clifford circuit\n",
    "clifford_gates = ['i', 'x', 'y', 'z', 'h', 's', 'sdg', 't', 'cx']"
   ]
  },
  {
   "cell_type": "code",
   "execution_count": 46,
   "metadata": {
    "slideshow": {
     "slide_type": "fragment"
    }
   },
   "outputs": [
    {
     "data": {
      "text/html": [
       "<pre style=\"word-wrap: normal;white-space: pre;background: #fff0;line-height: 1.1;font-family: &quot;Courier New&quot;,Courier,monospace\">      ┌───┐ ┌─────┐┌───┐     ┌───┐┌───┐      ┌───┐ ┌───┐          \n",
       "q_0: ─┤ Z ├─┤ Sdg ├┤ H ├──■──┤ H ├┤ S ├──■───┤ H ├─┤ S ├───────■──\n",
       "      ├───┤ └┬───┬┘└───┘┌─┴─┐└───┘└───┘  │   └───┘ └───┘     ┌─┴─┐\n",
       "q_1: ─┤ X ├──┤ S ├──────┤ X ├────────────┼────────────────■──┤ X ├\n",
       "     ┌┴───┴┐ ├───┤      └───┘          ┌─┴─┐┌─────┐┌───┐┌─┴─┐└───┘\n",
       "q_2: ┤ Sdg ├─┤ H ├─────────────────────┤ X ├┤ Sdg ├┤ H ├┤ X ├─────\n",
       "     └─────┘ └───┘                     └───┘└─────┘└───┘└───┘     </pre>"
      ],
      "text/plain": [
       "      ┌───┐ ┌─────┐┌───┐     ┌───┐┌───┐      ┌───┐ ┌───┐          \n",
       "q_0: ─┤ Z ├─┤ Sdg ├┤ H ├──■──┤ H ├┤ S ├──■───┤ H ├─┤ S ├───────■──\n",
       "      ├───┤ └┬───┬┘└───┘┌─┴─┐└───┘└───┘  │   └───┘ └───┘     ┌─┴─┐\n",
       "q_1: ─┤ X ├──┤ S ├──────┤ X ├────────────┼────────────────■──┤ X ├\n",
       "     ┌┴───┴┐ ├───┤      └───┘          ┌─┴─┐┌─────┐┌───┐┌─┴─┐└───┘\n",
       "q_2: ┤ Sdg ├─┤ H ├─────────────────────┤ X ├┤ Sdg ├┤ H ├┤ X ├─────\n",
       "     └─────┘ └───┘                     └───┘└─────┘└───┘└───┘     "
      ]
     },
     "execution_count": 46,
     "metadata": {},
     "output_type": "execute_result"
    }
   ],
   "source": [
    "# Generate random clifford and add to circuit\n",
    "nq = 3\n",
    "rc = qi.random_clifford(nq)\n",
    "circ = qiskit.QuantumCircuit(nq)\n",
    "circ.append(rc, range(nq))\n",
    "circ.draw()\n",
    "\n",
    "# Decompose into basis gates\n",
    "circ_basis = qiskit.transpile(circ, basis_gates=clifford_gates)\n",
    "circ_basis.draw()"
   ]
  },
  {
   "cell_type": "markdown",
   "metadata": {
    "slideshow": {
     "slide_type": "subslide"
    }
   },
   "source": [
    "### Validation\n",
    "\n",
    "We can check the synthesis is correct via Clifford simulation"
   ]
  },
  {
   "cell_type": "code",
   "execution_count": 47,
   "metadata": {},
   "outputs": [
    {
     "data": {
      "text/plain": [
       "True"
      ]
     },
     "execution_count": 47,
     "metadata": {},
     "output_type": "execute_result"
    }
   ],
   "source": [
    "rc == qi.Clifford(circ_basis)"
   ]
  },
  {
   "cell_type": "markdown",
   "metadata": {
    "slideshow": {
     "slide_type": "subslide"
    }
   },
   "source": [
    "### Example: 10-qubit sub-optimal Clifford synthesis"
   ]
  },
  {
   "cell_type": "code",
   "execution_count": 48,
   "metadata": {},
   "outputs": [],
   "source": [
    "# Generate random clifford and add to circuit\n",
    "nq = 10\n",
    "rc = qi.random_clifford(nq)\n",
    "circ = qiskit.QuantumCircuit(nq)\n",
    "circ.append(rc, range(nq))\n",
    "circ.draw()\n",
    "\n",
    "# Decompose into basis gates\n",
    "circ_basis = qiskit.transpile(circ, basis_gates=clifford_gates)"
   ]
  },
  {
   "cell_type": "code",
   "execution_count": 49,
   "metadata": {
    "slideshow": {
     "slide_type": "subslide"
    }
   },
   "outputs": [
    {
     "data": {
      "text/html": [
       "<pre style=\"word-wrap: normal;white-space: pre;background: #fff0;line-height: 1.1;font-family: &quot;Courier New&quot;,Courier,monospace\">     ┌───┐┌───┐┌─────┐                                                         »\n",
       "q_0: ┤ Z ├┤ H ├┤ Sdg ├─────────────────────────────────────────────────────────»\n",
       "     ├───┤└───┘└─────┘                                                         »\n",
       "q_1: ┤ H ├─────────────────────────────────────────────────────────────────────»\n",
       "     ├───┤┌───┐                                                                »\n",
       "q_2: ┤ X ├┤ H ├────────────────────────────────────────────────────────────────»\n",
       "     ├───┤├───┤ ┌───┐                                                          »\n",
       "q_3: ┤ X ├┤ Z ├─┤ H ├──────────────────────────────────────────────────────────»\n",
       "     ├───┤├───┤ └───┘                                                          »\n",
       "q_4: ┤ X ├┤ H ├────────────────────────────────────────────────────────────────»\n",
       "     ├───┤├───┤                                                                »\n",
       "q_5: ┤ X ├┤ H ├────────────────────────────────────────────────────────────────»\n",
       "     ├───┤├───┤ ┌───┐                                                          »\n",
       "q_6: ┤ X ├┤ Z ├─┤ H ├──────────────────────────────────────────────────────────»\n",
       "     ├───┤├───┤ └───┘                                    ┌───┐┌───┐┌─────┐┌───┐»\n",
       "q_7: ┤ X ├┤ H ├──────────────────────────────────■────■──┤ H ├┤ X ├┤ Sdg ├┤ X ├»\n",
       "     ├───┤├───┤┌─────┐          ┌───┐     ┌───┐  │  ┌─┴─┐└───┘└─┬─┘└─────┘└─┬─┘»\n",
       "q_8: ┤ X ├┤ Z ├┤ Sdg ├──────────┤ X ├──■──┤ X ├──┼──┤ X ├───────■───────────┼──»\n",
       "     ├───┤├───┤├─────┤┌───┐┌───┐└─┬─┘┌─┴─┐└─┬─┘┌─┴─┐└───┘                   │  »\n",
       "q_9: ┤ X ├┤ H ├┤ Sdg ├┤ H ├┤ H ├──■──┤ X ├──■──┤ X ├────────────────────────■──»\n",
       "     └───┘└───┘└─────┘└───┘└───┘     └───┘     └───┘                           »\n",
       "«                                                                             »\n",
       "«q_0: ────────────────────────────────────────────────────────────────────────»\n",
       "«                                                                             »\n",
       "«q_1: ────────────────────────────────────────────────────────────────────────»\n",
       "«                                                                             »\n",
       "«q_2: ────────────────────────────────────────────────────────────────────────»\n",
       "«                                                                             »\n",
       "«q_3: ────────────────────────────────────────────────────────────────────────»\n",
       "«                                                                             »\n",
       "«q_4: ────────────────────────────────────────────────────────────────────────»\n",
       "«                                                                             »\n",
       "«q_5: ───────────────────────────────────────────────────────────■────────────»\n",
       "«                              ┌───┐┌───┐┌─────┐┌───┐┌───┐       │       ┌───┐»\n",
       "«q_6: ────────────■────■────■──┤ H ├┤ X ├┤ Sdg ├┤ X ├┤ X ├──■────┼────■──┤ X ├»\n",
       "«     ┌───┐       │    │  ┌─┴─┐└───┘└─┬─┘└─────┘└─┬─┘└─┬─┘  │    │    │  └─┬─┘»\n",
       "«q_7: ┤ X ├──■────┼────┼──┤ X ├───────┼───────────┼────┼────┼────┼────┼────■──»\n",
       "«     └─┬─┘  │    │  ┌─┴─┐└───┘       │           │    │    │    │  ┌─┴─┐     »\n",
       "«q_8: ──■────┼────┼──┤ X ├────────────■───────────┼────■────┼────┼──┤ X ├─────»\n",
       "«          ┌─┴─┐┌─┴─┐└───┘                        │       ┌─┴─┐┌─┴─┐└───┘     »\n",
       "«q_9: ─────┤ X ├┤ X ├─────────────────────────────■───────┤ X ├┤ X ├──────────»\n",
       "«          └───┘└───┘                                     └───┘└───┘          »\n",
       "«                                                                          »\n",
       "«q_0: ─────────────────────────────────────────────────────────────────────»\n",
       "«                                                                          »\n",
       "«q_1: ─────────────────────────────────────────────────────────────────────»\n",
       "«                                                                          »\n",
       "«q_2: ─────────────────────────────────────────────────────────────────────»\n",
       "«                                                                          »\n",
       "«q_3: ─────────────────────────────────────────────────────────────────────»\n",
       "«                                                                          »\n",
       "«q_4: ─────────────────────────────────────────────────■───────────────────»\n",
       "«                    ┌───┐┌───┐┌───┐┌───┐┌─────┐┌───┐  │  ┌───┐┌─────┐┌───┐»\n",
       "«q_5: ────────────■──┤ H ├┤ X ├┤ X ├┤ X ├┤ Sdg ├┤ X ├──┼──┤ X ├┤ Sdg ├┤ X ├»\n",
       "«          ┌───┐┌─┴─┐└───┘└─┬─┘└─┬─┘└─┬─┘└─────┘└─┬─┘  │  └─┬─┘└─────┘└─┬─┘»\n",
       "«q_6: ──■──┤ X ├┤ X ├───────┼────┼────■───────────┼────┼────■───────────┼──»\n",
       "«     ┌─┴─┐└─┬─┘└───┘       │    │                │    │                │  »\n",
       "«q_7: ┤ X ├──■──────────────┼────┼────────────────┼────┼────────────────■──»\n",
       "«     └───┘                 │    │                │    │                   »\n",
       "«q_8: ──────────────────────┼────■────────────────┼────┼───────────────────»\n",
       "«                           │                     │  ┌─┴─┐                 »\n",
       "«q_9: ──────────────────────■─────────────────────■──┤ X ├─────────────────»\n",
       "«                                                    └───┘                 »\n",
       "«                                                                             »\n",
       "«q_0: ────────────────────────────────────────────────────────────────────────»\n",
       "«                                                                             »\n",
       "«q_1: ────────────────────────────────────────────────────────────────────────»\n",
       "«                                                                             »\n",
       "«q_2: ────────────────────────────────────────────────────────────────────────»\n",
       "«                                                                             »\n",
       "«q_3: ──────────────────────────────────────────────────────■─────────────────»\n",
       "«                    ┌───┐┌───┐┌───┐┌───┐┌─────┐┌───┐       │                 »\n",
       "«q_4: ────────────■──┤ H ├┤ X ├┤ X ├┤ X ├┤ Sdg ├┤ X ├──■────┼────■────■────■──»\n",
       "«          ┌───┐┌─┴─┐└───┘└─┬─┘└─┬─┘└─┬─┘└─────┘└─┬─┘  │    │    │    │    │  »\n",
       "«q_5: ──■──┤ X ├┤ X ├───────┼────┼────┼───────────■────┼────┼────┼────┼────┼──»\n",
       "«       │  └─┬─┘└───┘       │    │    │                │    │    │    │  ┌─┴─┐»\n",
       "«q_6: ──┼────┼──────────────┼────┼────■────────────────┼────┼────┼────┼──┤ X ├»\n",
       "«     ┌─┴─┐  │              │    │                     │    │    │  ┌─┴─┐└───┘»\n",
       "«q_7: ┤ X ├──■──────────────┼────┼─────────────────────┼────┼────┼──┤ X ├─────»\n",
       "«     └───┘                 │    │                     │    │  ┌─┴─┐└───┘     »\n",
       "«q_8: ──────────────────────┼────■─────────────────────┼────┼──┤ X ├──────────»\n",
       "«                           │                        ┌─┴─┐┌─┴─┐└───┘          »\n",
       "«q_9: ──────────────────────■────────────────────────┤ X ├┤ X ├───────────────»\n",
       "«                                                    └───┘└───┘               »\n",
       "«                                                                          »\n",
       "«q_0: ─────────────────────────────────────────────────────────────────────»\n",
       "«                                                                          »\n",
       "«q_1: ─────────────────────────────────────────────────────────────────────»\n",
       "«                                                                          »\n",
       "«q_2: ─────────────────────────────────────────────────────────────────────»\n",
       "«               ┌───┐┌───┐┌───┐┌───┐┌─────┐┌───┐┌───┐┌───┐┌───┐┌─────┐     »\n",
       "«q_3: ───────■──┤ H ├┤ X ├┤ X ├┤ X ├┤ Sdg ├┤ X ├┤ X ├┤ X ├┤ X ├┤ Sdg ├──■──»\n",
       "«            │  └───┘└─┬─┘└─┬─┘└─┬─┘└─────┘└─┬─┘└─┬─┘└─┬─┘└─┬─┘└─────┘  │  »\n",
       "«q_4: ──■────┼─────────┼────┼────■───────────┼────┼────┼────■───────────┼──»\n",
       "«     ┌─┴─┐┌─┴─┐       │    │                │    │    │                │  »\n",
       "«q_5: ┤ X ├┤ X ├───────┼────■────────────────┼────┼────■────────────────┼──»\n",
       "«     └───┘└───┘       │                     │    │                     │  »\n",
       "«q_6: ─────────────────┼─────────────────────┼────■─────────────────────┼──»\n",
       "«                      │                     │                          │  »\n",
       "«q_7: ─────────────────■─────────────────────■──────────────────────────┼──»\n",
       "«                                                                       │  »\n",
       "«q_8: ──────────────────────────────────────────────────────────────────┼──»\n",
       "«                                                                     ┌─┴─┐»\n",
       "«q_9: ────────────────────────────────────────────────────────────────┤ X ├»\n",
       "«                                                                     └───┘»\n",
       "«                                                                           »\n",
       "«q_0: ──────────────────────────────────────────────────────────────────────»\n",
       "«                                                                           »\n",
       "«q_1: ────────────────────────────────────────────────────■─────────────────»\n",
       "«                                             ┌───┐┌───┐  │  ┌───┐┌───┐┌───┐»\n",
       "«q_2: ──■─────────■─────────■──────────────■──┤ H ├┤ X ├──┼──┤ X ├┤ X ├┤ X ├»\n",
       "«       │         │  ┌───┐  │       ┌───┐  │  └───┘└─┬─┘  │  └─┬─┘└─┬─┘└─┬─┘»\n",
       "«q_3: ──┼────■────┼──┤ X ├──┼────■──┤ X ├──┼─────────┼────┼────┼────┼────┼──»\n",
       "«       │    │    │  └─┬─┘  │  ┌─┴─┐└─┬─┘┌─┴─┐       │    │    │    │    │  »\n",
       "«q_4: ──┼────┼────┼────■────┼──┤ X ├──■──┤ X ├───────┼────┼────┼────┼────■──»\n",
       "«       │    │    │       ┌─┴─┐└───┘     └───┘       │    │    │    │       »\n",
       "«q_5: ──┼────┼────┼───────┤ X ├──────────────────────┼────┼────┼────■───────»\n",
       "«       │    │    │       └───┘                      │    │    │            »\n",
       "«q_6: ──┼────┼────┼──────────────────────────────────┼────┼────┼────────────»\n",
       "«       │  ┌─┴─┐┌─┴─┐                                │    │    │            »\n",
       "«q_7: ──┼──┤ X ├┤ X ├────────────────────────────────┼────┼────┼────────────»\n",
       "«       │  └───┘└───┘                                │    │    │            »\n",
       "«q_8: ──┼────────────────────────────────────────────┼────┼────■────────────»\n",
       "«     ┌─┴─┐                                          │  ┌─┴─┐               »\n",
       "«q_9: ┤ X ├──────────────────────────────────────────■──┤ X ├───────────────»\n",
       "«     └───┘                                             └───┘               »\n",
       "«                                                                             »\n",
       "«q_0: ───────────────────────────────────────────────────────────■────────────»\n",
       "«                                                    ┌───┐┌───┐  │  ┌───┐┌───┐»\n",
       "«q_1: ────────────────────────■───────────────────■──┤ H ├┤ X ├──┼──┤ X ├┤ X ├»\n",
       "«     ┌─────┐┌───┐┌───┐┌───┐  │  ┌───┐            │  └───┘└─┬─┘  │  └─┬─┘└─┬─┘»\n",
       "«q_2: ┤ Sdg ├┤ X ├┤ X ├┤ X ├──┼──┤ X ├──■────■────┼─────────┼────┼────┼────┼──»\n",
       "«     └─────┘└─┬─┘└─┬─┘└─┬─┘  │  └─┬─┘  │  ┌─┴─┐┌─┴─┐       │    │    │    │  »\n",
       "«q_3: ─────────┼────┼────┼────┼────■────┼──┤ X ├┤ X ├───────┼────┼────┼────┼──»\n",
       "«              │    │    │    │       ┌─┴─┐└───┘└───┘       │    │    │    │  »\n",
       "«q_4: ─────────┼────┼────┼────┼───────┤ X ├─────────────────┼────┼────┼────■──»\n",
       "«              │    │    │  ┌─┴─┐     └───┘                 │    │    │       »\n",
       "«q_5: ─────────┼────┼────■──┤ X ├───────────────────────────┼────┼────┼───────»\n",
       "«              │    │       └───┘                           │    │    │       »\n",
       "«q_6: ─────────┼────┼───────────────────────────────────────┼────┼────■───────»\n",
       "«              │    │                                       │  ┌─┴─┐          »\n",
       "«q_7: ─────────┼────■───────────────────────────────────────■──┤ X ├──────────»\n",
       "«              │                                               └───┘          »\n",
       "«q_8: ─────────■──────────────────────────────────────────────────────────────»\n",
       "«                                                                             »\n",
       "«q_9: ────────────────────────────────────────────────────────────────────────»\n",
       "«                                                                             »\n",
       "«                                                                        ┌───┐»\n",
       "«q_0: ────────────────────────────────────────────■─────────■────■────■──┤ H ├»\n",
       "«     ┌───┐┌─────┐┌───┐┌───┐┌───┐                 │         │    │  ┌─┴─┐└───┘»\n",
       "«q_1: ┤ X ├┤ Sdg ├┤ X ├┤ X ├┤ X ├──■────■────■────┼────■────┼────┼──┤ X ├─────»\n",
       "«     └─┬─┘└─────┘└─┬─┘└─┬─┘└─┬─┘  │    │    │    │    │    │  ┌─┴─┐└───┘     »\n",
       "«q_2: ──■───────────┼────┼────■────┼────┼────┼────┼────┼────┼──┤ X ├──────────»\n",
       "«                   │    │         │    │    │    │    │    │  └───┘          »\n",
       "«q_3: ──────────────┼────■─────────┼────┼────┼────┼────┼────┼─────────────────»\n",
       "«                   │              │    │    │    │  ┌─┴─┐┌─┴─┐               »\n",
       "«q_4: ──────────────┼──────────────┼────┼────┼────┼──┤ X ├┤ X ├───────────────»\n",
       "«                   │              │    │  ┌─┴─┐┌─┴─┐└───┘└───┘               »\n",
       "«q_5: ──────────────┼──────────────┼────┼──┤ X ├┤ X ├─────────────────────────»\n",
       "«                   │              │  ┌─┴─┐└───┘└───┘                         »\n",
       "«q_6: ──────────────■──────────────┼──┤ X ├───────────────────────────────────»\n",
       "«                                  │  └───┘                                   »\n",
       "«q_7: ─────────────────────────────┼──────────────────────────────────────────»\n",
       "«                                  │                                          »\n",
       "«q_8: ─────────────────────────────┼──────────────────────────────────────────»\n",
       "«                                ┌─┴─┐                                        »\n",
       "«q_9: ───────────────────────────┤ X ├────────────────────────────────────────»\n",
       "«                                └───┘                                        »\n",
       "«     ┌───┐┌───┐┌───┐┌───┐┌─────┐┌───┐┌───┐┌───┐┌───┐┌───┐┌───┐┌───┐          »\n",
       "«q_0: ┤ X ├┤ X ├┤ X ├┤ X ├┤ Sdg ├┤ X ├┤ X ├┤ X ├┤ X ├┤ X ├┤ X ├┤ X ├──■────■──»\n",
       "«     └─┬─┘└─┬─┘└─┬─┘└─┬─┘└─────┘└─┬─┘└─┬─┘└─┬─┘└─┬─┘└─┬─┘└─┬─┘└─┬─┘  │    │  »\n",
       "«q_1: ──┼────┼────┼────┼───────────┼────┼────┼────┼────┼────┼────■────┼────┼──»\n",
       "«       │    │    │    │           │    │    │    │    │    │         │    │  »\n",
       "«q_2: ──┼────┼────┼────■───────────┼────┼────┼────┼────┼────■─────────┼────┼──»\n",
       "«       │    │    │                │    │    │    │    │              │    │  »\n",
       "«q_3: ──┼────┼────■────────────────┼────┼────┼────┼────■──────────────┼────┼──»\n",
       "«       │    │                     │    │    │    │                   │    │  »\n",
       "«q_4: ──┼────■─────────────────────┼────┼────┼────■───────────────────┼────┼──»\n",
       "«       │                          │    │    │                        │    │  »\n",
       "«q_5: ──┼──────────────────────────┼────┼────┼────────────────────────┼────┼──»\n",
       "«       │                          │    │    │                        │  ┌─┴─┐»\n",
       "«q_6: ──┼──────────────────────────┼────┼────■────────────────────────┼──┤ X ├»\n",
       "«       │                          │    │                             │  └───┘»\n",
       "«q_7: ──┼──────────────────────────┼────┼─────────────────────────────┼───────»\n",
       "«       │                          │    │                             │       »\n",
       "«q_8: ──┼──────────────────────────┼────■─────────────────────────────┼───────»\n",
       "«       │                          │                                ┌─┴─┐     »\n",
       "«q_9: ──■──────────────────────────■────────────────────────────────┤ X ├─────»\n",
       "«                                                                   └───┘     »\n",
       "«                         \n",
       "«q_0: ──■────■────■────■──\n",
       "«       │    │    │  ┌─┴─┐\n",
       "«q_1: ──┼────┼────┼──┤ X ├\n",
       "«       │    │  ┌─┴─┐└───┘\n",
       "«q_2: ──┼────┼──┤ X ├─────\n",
       "«       │    │  └───┘     \n",
       "«q_3: ──┼────┼────────────\n",
       "«       │  ┌─┴─┐          \n",
       "«q_4: ──┼──┤ X ├──────────\n",
       "«     ┌─┴─┐└───┘          \n",
       "«q_5: ┤ X ├───────────────\n",
       "«     └───┘               \n",
       "«q_6: ────────────────────\n",
       "«                         \n",
       "«q_7: ────────────────────\n",
       "«                         \n",
       "«q_8: ────────────────────\n",
       "«                         \n",
       "«q_9: ────────────────────\n",
       "«                         </pre>"
      ],
      "text/plain": [
       "     ┌───┐┌───┐┌─────┐                                                         »\n",
       "q_0: ┤ Z ├┤ H ├┤ Sdg ├─────────────────────────────────────────────────────────»\n",
       "     ├───┤└───┘└─────┘                                                         »\n",
       "q_1: ┤ H ├─────────────────────────────────────────────────────────────────────»\n",
       "     ├───┤┌───┐                                                                »\n",
       "q_2: ┤ X ├┤ H ├────────────────────────────────────────────────────────────────»\n",
       "     ├───┤├───┤ ┌───┐                                                          »\n",
       "q_3: ┤ X ├┤ Z ├─┤ H ├──────────────────────────────────────────────────────────»\n",
       "     ├───┤├───┤ └───┘                                                          »\n",
       "q_4: ┤ X ├┤ H ├────────────────────────────────────────────────────────────────»\n",
       "     ├───┤├───┤                                                                »\n",
       "q_5: ┤ X ├┤ H ├────────────────────────────────────────────────────────────────»\n",
       "     ├───┤├───┤ ┌───┐                                                          »\n",
       "q_6: ┤ X ├┤ Z ├─┤ H ├──────────────────────────────────────────────────────────»\n",
       "     ├───┤├───┤ └───┘                                    ┌───┐┌───┐┌─────┐┌───┐»\n",
       "q_7: ┤ X ├┤ H ├──────────────────────────────────■────■──┤ H ├┤ X ├┤ Sdg ├┤ X ├»\n",
       "     ├───┤├───┤┌─────┐          ┌───┐     ┌───┐  │  ┌─┴─┐└───┘└─┬─┘└─────┘└─┬─┘»\n",
       "q_8: ┤ X ├┤ Z ├┤ Sdg ├──────────┤ X ├──■──┤ X ├──┼──┤ X ├───────■───────────┼──»\n",
       "     ├───┤├───┤├─────┤┌───┐┌───┐└─┬─┘┌─┴─┐└─┬─┘┌─┴─┐└───┘                   │  »\n",
       "q_9: ┤ X ├┤ H ├┤ Sdg ├┤ H ├┤ H ├──■──┤ X ├──■──┤ X ├────────────────────────■──»\n",
       "     └───┘└───┘└─────┘└───┘└───┘     └───┘     └───┘                           »\n",
       "«                                                                             »\n",
       "«q_0: ────────────────────────────────────────────────────────────────────────»\n",
       "«                                                                             »\n",
       "«q_1: ────────────────────────────────────────────────────────────────────────»\n",
       "«                                                                             »\n",
       "«q_2: ────────────────────────────────────────────────────────────────────────»\n",
       "«                                                                             »\n",
       "«q_3: ────────────────────────────────────────────────────────────────────────»\n",
       "«                                                                             »\n",
       "«q_4: ────────────────────────────────────────────────────────────────────────»\n",
       "«                                                                             »\n",
       "«q_5: ───────────────────────────────────────────────────────────■────────────»\n",
       "«                              ┌───┐┌───┐┌─────┐┌───┐┌───┐       │       ┌───┐»\n",
       "«q_6: ────────────■────■────■──┤ H ├┤ X ├┤ Sdg ├┤ X ├┤ X ├──■────┼────■──┤ X ├»\n",
       "«     ┌───┐       │    │  ┌─┴─┐└───┘└─┬─┘└─────┘└─┬─┘└─┬─┘  │    │    │  └─┬─┘»\n",
       "«q_7: ┤ X ├──■────┼────┼──┤ X ├───────┼───────────┼────┼────┼────┼────┼────■──»\n",
       "«     └─┬─┘  │    │  ┌─┴─┐└───┘       │           │    │    │    │  ┌─┴─┐     »\n",
       "«q_8: ──■────┼────┼──┤ X ├────────────■───────────┼────■────┼────┼──┤ X ├─────»\n",
       "«          ┌─┴─┐┌─┴─┐└───┘                        │       ┌─┴─┐┌─┴─┐└───┘     »\n",
       "«q_9: ─────┤ X ├┤ X ├─────────────────────────────■───────┤ X ├┤ X ├──────────»\n",
       "«          └───┘└───┘                                     └───┘└───┘          »\n",
       "«                                                                          »\n",
       "«q_0: ─────────────────────────────────────────────────────────────────────»\n",
       "«                                                                          »\n",
       "«q_1: ─────────────────────────────────────────────────────────────────────»\n",
       "«                                                                          »\n",
       "«q_2: ─────────────────────────────────────────────────────────────────────»\n",
       "«                                                                          »\n",
       "«q_3: ─────────────────────────────────────────────────────────────────────»\n",
       "«                                                                          »\n",
       "«q_4: ─────────────────────────────────────────────────■───────────────────»\n",
       "«                    ┌───┐┌───┐┌───┐┌───┐┌─────┐┌───┐  │  ┌───┐┌─────┐┌───┐»\n",
       "«q_5: ────────────■──┤ H ├┤ X ├┤ X ├┤ X ├┤ Sdg ├┤ X ├──┼──┤ X ├┤ Sdg ├┤ X ├»\n",
       "«          ┌───┐┌─┴─┐└───┘└─┬─┘└─┬─┘└─┬─┘└─────┘└─┬─┘  │  └─┬─┘└─────┘└─┬─┘»\n",
       "«q_6: ──■──┤ X ├┤ X ├───────┼────┼────■───────────┼────┼────■───────────┼──»\n",
       "«     ┌─┴─┐└─┬─┘└───┘       │    │                │    │                │  »\n",
       "«q_7: ┤ X ├──■──────────────┼────┼────────────────┼────┼────────────────■──»\n",
       "«     └───┘                 │    │                │    │                   »\n",
       "«q_8: ──────────────────────┼────■────────────────┼────┼───────────────────»\n",
       "«                           │                     │  ┌─┴─┐                 »\n",
       "«q_9: ──────────────────────■─────────────────────■──┤ X ├─────────────────»\n",
       "«                                                    └───┘                 »\n",
       "«                                                                             »\n",
       "«q_0: ────────────────────────────────────────────────────────────────────────»\n",
       "«                                                                             »\n",
       "«q_1: ────────────────────────────────────────────────────────────────────────»\n",
       "«                                                                             »\n",
       "«q_2: ────────────────────────────────────────────────────────────────────────»\n",
       "«                                                                             »\n",
       "«q_3: ──────────────────────────────────────────────────────■─────────────────»\n",
       "«                    ┌───┐┌───┐┌───┐┌───┐┌─────┐┌───┐       │                 »\n",
       "«q_4: ────────────■──┤ H ├┤ X ├┤ X ├┤ X ├┤ Sdg ├┤ X ├──■────┼────■────■────■──»\n",
       "«          ┌───┐┌─┴─┐└───┘└─┬─┘└─┬─┘└─┬─┘└─────┘└─┬─┘  │    │    │    │    │  »\n",
       "«q_5: ──■──┤ X ├┤ X ├───────┼────┼────┼───────────■────┼────┼────┼────┼────┼──»\n",
       "«       │  └─┬─┘└───┘       │    │    │                │    │    │    │  ┌─┴─┐»\n",
       "«q_6: ──┼────┼──────────────┼────┼────■────────────────┼────┼────┼────┼──┤ X ├»\n",
       "«     ┌─┴─┐  │              │    │                     │    │    │  ┌─┴─┐└───┘»\n",
       "«q_7: ┤ X ├──■──────────────┼────┼─────────────────────┼────┼────┼──┤ X ├─────»\n",
       "«     └───┘                 │    │                     │    │  ┌─┴─┐└───┘     »\n",
       "«q_8: ──────────────────────┼────■─────────────────────┼────┼──┤ X ├──────────»\n",
       "«                           │                        ┌─┴─┐┌─┴─┐└───┘          »\n",
       "«q_9: ──────────────────────■────────────────────────┤ X ├┤ X ├───────────────»\n",
       "«                                                    └───┘└───┘               »\n",
       "«                                                                          »\n",
       "«q_0: ─────────────────────────────────────────────────────────────────────»\n",
       "«                                                                          »\n",
       "«q_1: ─────────────────────────────────────────────────────────────────────»\n",
       "«                                                                          »\n",
       "«q_2: ─────────────────────────────────────────────────────────────────────»\n",
       "«               ┌───┐┌───┐┌───┐┌───┐┌─────┐┌───┐┌───┐┌───┐┌───┐┌─────┐     »\n",
       "«q_3: ───────■──┤ H ├┤ X ├┤ X ├┤ X ├┤ Sdg ├┤ X ├┤ X ├┤ X ├┤ X ├┤ Sdg ├──■──»\n",
       "«            │  └───┘└─┬─┘└─┬─┘└─┬─┘└─────┘└─┬─┘└─┬─┘└─┬─┘└─┬─┘└─────┘  │  »\n",
       "«q_4: ──■────┼─────────┼────┼────■───────────┼────┼────┼────■───────────┼──»\n",
       "«     ┌─┴─┐┌─┴─┐       │    │                │    │    │                │  »\n",
       "«q_5: ┤ X ├┤ X ├───────┼────■────────────────┼────┼────■────────────────┼──»\n",
       "«     └───┘└───┘       │                     │    │                     │  »\n",
       "«q_6: ─────────────────┼─────────────────────┼────■─────────────────────┼──»\n",
       "«                      │                     │                          │  »\n",
       "«q_7: ─────────────────■─────────────────────■──────────────────────────┼──»\n",
       "«                                                                       │  »\n",
       "«q_8: ──────────────────────────────────────────────────────────────────┼──»\n",
       "«                                                                     ┌─┴─┐»\n",
       "«q_9: ────────────────────────────────────────────────────────────────┤ X ├»\n",
       "«                                                                     └───┘»\n",
       "«                                                                           »\n",
       "«q_0: ──────────────────────────────────────────────────────────────────────»\n",
       "«                                                                           »\n",
       "«q_1: ────────────────────────────────────────────────────■─────────────────»\n",
       "«                                             ┌───┐┌───┐  │  ┌───┐┌───┐┌───┐»\n",
       "«q_2: ──■─────────■─────────■──────────────■──┤ H ├┤ X ├──┼──┤ X ├┤ X ├┤ X ├»\n",
       "«       │         │  ┌───┐  │       ┌───┐  │  └───┘└─┬─┘  │  └─┬─┘└─┬─┘└─┬─┘»\n",
       "«q_3: ──┼────■────┼──┤ X ├──┼────■──┤ X ├──┼─────────┼────┼────┼────┼────┼──»\n",
       "«       │    │    │  └─┬─┘  │  ┌─┴─┐└─┬─┘┌─┴─┐       │    │    │    │    │  »\n",
       "«q_4: ──┼────┼────┼────■────┼──┤ X ├──■──┤ X ├───────┼────┼────┼────┼────■──»\n",
       "«       │    │    │       ┌─┴─┐└───┘     └───┘       │    │    │    │       »\n",
       "«q_5: ──┼────┼────┼───────┤ X ├──────────────────────┼────┼────┼────■───────»\n",
       "«       │    │    │       └───┘                      │    │    │            »\n",
       "«q_6: ──┼────┼────┼──────────────────────────────────┼────┼────┼────────────»\n",
       "«       │  ┌─┴─┐┌─┴─┐                                │    │    │            »\n",
       "«q_7: ──┼──┤ X ├┤ X ├────────────────────────────────┼────┼────┼────────────»\n",
       "«       │  └───┘└───┘                                │    │    │            »\n",
       "«q_8: ──┼────────────────────────────────────────────┼────┼────■────────────»\n",
       "«     ┌─┴─┐                                          │  ┌─┴─┐               »\n",
       "«q_9: ┤ X ├──────────────────────────────────────────■──┤ X ├───────────────»\n",
       "«     └───┘                                             └───┘               »\n",
       "«                                                                             »\n",
       "«q_0: ───────────────────────────────────────────────────────────■────────────»\n",
       "«                                                    ┌───┐┌───┐  │  ┌───┐┌───┐»\n",
       "«q_1: ────────────────────────■───────────────────■──┤ H ├┤ X ├──┼──┤ X ├┤ X ├»\n",
       "«     ┌─────┐┌───┐┌───┐┌───┐  │  ┌───┐            │  └───┘└─┬─┘  │  └─┬─┘└─┬─┘»\n",
       "«q_2: ┤ Sdg ├┤ X ├┤ X ├┤ X ├──┼──┤ X ├──■────■────┼─────────┼────┼────┼────┼──»\n",
       "«     └─────┘└─┬─┘└─┬─┘└─┬─┘  │  └─┬─┘  │  ┌─┴─┐┌─┴─┐       │    │    │    │  »\n",
       "«q_3: ─────────┼────┼────┼────┼────■────┼──┤ X ├┤ X ├───────┼────┼────┼────┼──»\n",
       "«              │    │    │    │       ┌─┴─┐└───┘└───┘       │    │    │    │  »\n",
       "«q_4: ─────────┼────┼────┼────┼───────┤ X ├─────────────────┼────┼────┼────■──»\n",
       "«              │    │    │  ┌─┴─┐     └───┘                 │    │    │       »\n",
       "«q_5: ─────────┼────┼────■──┤ X ├───────────────────────────┼────┼────┼───────»\n",
       "«              │    │       └───┘                           │    │    │       »\n",
       "«q_6: ─────────┼────┼───────────────────────────────────────┼────┼────■───────»\n",
       "«              │    │                                       │  ┌─┴─┐          »\n",
       "«q_7: ─────────┼────■───────────────────────────────────────■──┤ X ├──────────»\n",
       "«              │                                               └───┘          »\n",
       "«q_8: ─────────■──────────────────────────────────────────────────────────────»\n",
       "«                                                                             »\n",
       "«q_9: ────────────────────────────────────────────────────────────────────────»\n",
       "«                                                                             »\n",
       "«                                                                        ┌───┐»\n",
       "«q_0: ────────────────────────────────────────────■─────────■────■────■──┤ H ├»\n",
       "«     ┌───┐┌─────┐┌───┐┌───┐┌───┐                 │         │    │  ┌─┴─┐└───┘»\n",
       "«q_1: ┤ X ├┤ Sdg ├┤ X ├┤ X ├┤ X ├──■────■────■────┼────■────┼────┼──┤ X ├─────»\n",
       "«     └─┬─┘└─────┘└─┬─┘└─┬─┘└─┬─┘  │    │    │    │    │    │  ┌─┴─┐└───┘     »\n",
       "«q_2: ──■───────────┼────┼────■────┼────┼────┼────┼────┼────┼──┤ X ├──────────»\n",
       "«                   │    │         │    │    │    │    │    │  └───┘          »\n",
       "«q_3: ──────────────┼────■─────────┼────┼────┼────┼────┼────┼─────────────────»\n",
       "«                   │              │    │    │    │  ┌─┴─┐┌─┴─┐               »\n",
       "«q_4: ──────────────┼──────────────┼────┼────┼────┼──┤ X ├┤ X ├───────────────»\n",
       "«                   │              │    │  ┌─┴─┐┌─┴─┐└───┘└───┘               »\n",
       "«q_5: ──────────────┼──────────────┼────┼──┤ X ├┤ X ├─────────────────────────»\n",
       "«                   │              │  ┌─┴─┐└───┘└───┘                         »\n",
       "«q_6: ──────────────■──────────────┼──┤ X ├───────────────────────────────────»\n",
       "«                                  │  └───┘                                   »\n",
       "«q_7: ─────────────────────────────┼──────────────────────────────────────────»\n",
       "«                                  │                                          »\n",
       "«q_8: ─────────────────────────────┼──────────────────────────────────────────»\n",
       "«                                ┌─┴─┐                                        »\n",
       "«q_9: ───────────────────────────┤ X ├────────────────────────────────────────»\n",
       "«                                └───┘                                        »\n",
       "«     ┌───┐┌───┐┌───┐┌───┐┌─────┐┌───┐┌───┐┌───┐┌───┐┌───┐┌───┐┌───┐          »\n",
       "«q_0: ┤ X ├┤ X ├┤ X ├┤ X ├┤ Sdg ├┤ X ├┤ X ├┤ X ├┤ X ├┤ X ├┤ X ├┤ X ├──■────■──»\n",
       "«     └─┬─┘└─┬─┘└─┬─┘└─┬─┘└─────┘└─┬─┘└─┬─┘└─┬─┘└─┬─┘└─┬─┘└─┬─┘└─┬─┘  │    │  »\n",
       "«q_1: ──┼────┼────┼────┼───────────┼────┼────┼────┼────┼────┼────■────┼────┼──»\n",
       "«       │    │    │    │           │    │    │    │    │    │         │    │  »\n",
       "«q_2: ──┼────┼────┼────■───────────┼────┼────┼────┼────┼────■─────────┼────┼──»\n",
       "«       │    │    │                │    │    │    │    │              │    │  »\n",
       "«q_3: ──┼────┼────■────────────────┼────┼────┼────┼────■──────────────┼────┼──»\n",
       "«       │    │                     │    │    │    │                   │    │  »\n",
       "«q_4: ──┼────■─────────────────────┼────┼────┼────■───────────────────┼────┼──»\n",
       "«       │                          │    │    │                        │    │  »\n",
       "«q_5: ──┼──────────────────────────┼────┼────┼────────────────────────┼────┼──»\n",
       "«       │                          │    │    │                        │  ┌─┴─┐»\n",
       "«q_6: ──┼──────────────────────────┼────┼────■────────────────────────┼──┤ X ├»\n",
       "«       │                          │    │                             │  └───┘»\n",
       "«q_7: ──┼──────────────────────────┼────┼─────────────────────────────┼───────»\n",
       "«       │                          │    │                             │       »\n",
       "«q_8: ──┼──────────────────────────┼────■─────────────────────────────┼───────»\n",
       "«       │                          │                                ┌─┴─┐     »\n",
       "«q_9: ──■──────────────────────────■────────────────────────────────┤ X ├─────»\n",
       "«                                                                   └───┘     »\n",
       "«                         \n",
       "«q_0: ──■────■────■────■──\n",
       "«       │    │    │  ┌─┴─┐\n",
       "«q_1: ──┼────┼────┼──┤ X ├\n",
       "«       │    │  ┌─┴─┐└───┘\n",
       "«q_2: ──┼────┼──┤ X ├─────\n",
       "«       │    │  └───┘     \n",
       "«q_3: ──┼────┼────────────\n",
       "«       │  ┌─┴─┐          \n",
       "«q_4: ──┼──┤ X ├──────────\n",
       "«     ┌─┴─┐└───┘          \n",
       "«q_5: ┤ X ├───────────────\n",
       "«     └───┘               \n",
       "«q_6: ────────────────────\n",
       "«                         \n",
       "«q_7: ────────────────────\n",
       "«                         \n",
       "«q_8: ────────────────────\n",
       "«                         \n",
       "«q_9: ────────────────────\n",
       "«                         "
      ]
     },
     "execution_count": 49,
     "metadata": {},
     "output_type": "execute_result"
    }
   ],
   "source": [
    "circ_basis.draw()"
   ]
  },
  {
   "cell_type": "markdown",
   "metadata": {
    "slideshow": {
     "slide_type": "subslide"
    }
   },
   "source": [
    "### Validation"
   ]
  },
  {
   "cell_type": "code",
   "execution_count": 50,
   "metadata": {},
   "outputs": [
    {
     "data": {
      "text/plain": [
       "True"
      ]
     },
     "execution_count": 50,
     "metadata": {},
     "output_type": "execute_result"
    }
   ],
   "source": [
    "rc == qi.Clifford(circ_basis)"
   ]
  },
  {
   "cell_type": "markdown",
   "metadata": {
    "slideshow": {
     "slide_type": "slide"
    }
   },
   "source": [
    "# Adding noise to circuits\n",
    "\n",
    "If we want to include noise we need to use QuantumChannels"
   ]
  },
  {
   "cell_type": "markdown",
   "metadata": {
    "slideshow": {
     "slide_type": "fragment"
    }
   },
   "source": [
    "* Once we have inserted a quantum channel (like a `SuperOp` or `Kraus`) into a circuit we can no-longer simulate using the `Statevector` or `Operator` classes"
   ]
  },
  {
   "cell_type": "markdown",
   "metadata": {
    "slideshow": {
     "slide_type": "fragment"
    }
   },
   "source": [
    "* We must use the `DensityMatrix` or `SuperOp` classes"
   ]
  },
  {
   "cell_type": "markdown",
   "metadata": {
    "slideshow": {
     "slide_type": "subslide"
    }
   },
   "source": [
    "## Generating a random quantum channel\n",
    "\n",
    "* We can use the [random_quantum_channel](https://qiskit.org/documentation/stubs/qiskit.quantum_info.random_quantum_channel.html) function we can use to to generate a random N-qubit quantum channel object."
   ]
  },
  {
   "cell_type": "code",
   "execution_count": 51,
   "metadata": {
    "slideshow": {
     "slide_type": "fragment"
    }
   },
   "outputs": [
    {
     "name": "stdout",
     "output_type": "stream",
     "text": [
      "Stinespring([[-0.05790718+0.21455785j,  0.01300564+0.32739234j],\n",
      "             [ 0.26286722-0.16054326j,  0.45167557-0.2258567j ],\n",
      "             [-0.08836877+0.65211386j, -0.10668267-0.42506865j],\n",
      "             [ 0.22756379-0.14823506j,  0.33438105+0.01532885j],\n",
      "             [ 0.27884857+0.04875386j, -0.17066353-0.12877625j],\n",
      "             [ 0.24950666+0.09443122j,  0.2543201 +0.1438751j ],\n",
      "             [ 0.19663069-0.07144377j,  0.12368404-0.26512709j],\n",
      "             [-0.36555956-0.14216895j,  0.14486648+0.30959375j]],\n",
      "            input_dims=(2,), output_dims=(2,))\n"
     ]
    }
   ],
   "source": [
    "# Generate a random 1-qubit quantum channel\n",
    "chan = qi.random_quantum_channel(2)\n",
    "print(chan)"
   ]
  },
  {
   "cell_type": "markdown",
   "metadata": {
    "slideshow": {
     "slide_type": "subslide"
    }
   },
   "source": [
    "### We can convert to our preferred representation"
   ]
  },
  {
   "cell_type": "code",
   "execution_count": 52,
   "metadata": {},
   "outputs": [
    {
     "data": {
      "text/plain": [
       "Kraus([[[-0.05790718+0.21455785j,  0.01300564+0.32739234j],\n",
       "        [ 0.27884857+0.04875386j, -0.17066353-0.12877625j]],\n",
       "\n",
       "       [[ 0.26286722-0.16054326j,  0.45167557-0.2258567j ],\n",
       "        [ 0.24950666+0.09443122j,  0.2543201 +0.1438751j ]],\n",
       "\n",
       "       [[-0.08836877+0.65211386j, -0.10668267-0.42506865j],\n",
       "        [ 0.19663069-0.07144377j,  0.12368404-0.26512709j]],\n",
       "\n",
       "       [[ 0.22756379-0.14823506j,  0.33438105+0.01532885j],\n",
       "        [-0.36555956-0.14216895j,  0.14486648+0.30959375j]]],\n",
       "      input_dims=(2,), output_dims=(2,))"
      ]
     },
     "execution_count": 52,
     "metadata": {},
     "output_type": "execute_result"
    }
   ],
   "source": [
    "qi.Kraus(chan)"
   ]
  },
  {
   "cell_type": "markdown",
   "metadata": {
    "slideshow": {
     "slide_type": "subslide"
    }
   },
   "source": [
    "### And apply it to a density matrix"
   ]
  },
  {
   "cell_type": "code",
   "execution_count": 53,
   "metadata": {},
   "outputs": [
    {
     "data": {
      "text/plain": [
       "DensityMatrix([[ 0.65108206+0.j        , -0.08133917+0.20622631j],\n",
       "               [-0.08133917-0.20622631j,  0.34891794+0.j        ]],\n",
       "              dims=(2,))"
      ]
     },
     "execution_count": 53,
     "metadata": {},
     "output_type": "execute_result"
    }
   ],
   "source": [
    "qi.DensityMatrix.from_label('0').evolve(chan)"
   ]
  },
  {
   "cell_type": "markdown",
   "metadata": {
    "slideshow": {
     "slide_type": "subslide"
    }
   },
   "source": [
    "## Inserting a quantum channel into a circuit\n",
    "\n",
    "Quantum channel objects can also be inserted into a circuit."
   ]
  },
  {
   "cell_type": "markdown",
   "metadata": {
    "slideshow": {
     "slide_type": "fragment"
    }
   },
   "source": [
    "* A channel cannot be transpiled or synethsised into basis gates"
   ]
  },
  {
   "cell_type": "markdown",
   "metadata": {
    "slideshow": {
     "slide_type": "fragment"
    }
   },
   "source": [
    "* If you transpile you **must** include `\"kraus\"` in your basis gates or you will get an error"
   ]
  },
  {
   "cell_type": "code",
   "execution_count": 54,
   "metadata": {
    "slideshow": {
     "slide_type": "fragment"
    }
   },
   "outputs": [
    {
     "data": {
      "text/html": [
       "<pre style=\"word-wrap: normal;white-space: pre;background: #fff0;line-height: 1.1;font-family: &quot;Courier New&quot;,Courier,monospace\">     ┌───────┐\n",
       "q_0: ┤ Kraus ├\n",
       "     └───────┘</pre>"
      ],
      "text/plain": [
       "     ┌───────┐\n",
       "q_0: ┤ Kraus ├\n",
       "     └───────┘"
      ]
     },
     "execution_count": 54,
     "metadata": {},
     "output_type": "execute_result"
    }
   ],
   "source": [
    "# Can be added to a circuit\n",
    "noise_circ = qiskit.QuantumCircuit(1)\n",
    "noise_circ.append(chan, [0])\n",
    "noise_circ.draw()"
   ]
  },
  {
   "cell_type": "markdown",
   "metadata": {
    "slideshow": {
     "slide_type": "subslide"
    }
   },
   "source": [
    "### Executing the noisy circuit\n",
    "\n",
    "The noisy circuit must be simulated using the `DensityMatrix` or `SuperOp` classes\n",
    "\n",
    "* *NOTE: noisy circuits can also be executed on the `QasmSimulator` in Qiskit Aer which supports noise*"
   ]
  },
  {
   "cell_type": "code",
   "execution_count": 55,
   "metadata": {
    "slideshow": {
     "slide_type": "fragment"
    }
   },
   "outputs": [
    {
     "data": {
      "text/plain": [
       "DensityMatrix([[ 0.65108206+0.j        , -0.08133917+0.20622631j],\n",
       "               [-0.08133917-0.20622631j,  0.34891794+0.j        ]],\n",
       "              dims=(2,))"
      ]
     },
     "execution_count": 55,
     "metadata": {},
     "output_type": "execute_result"
    }
   ],
   "source": [
    "qi.DensityMatrix.from_instruction(noise_circ)"
   ]
  },
  {
   "cell_type": "markdown",
   "metadata": {
    "slideshow": {
     "slide_type": "subslide"
    }
   },
   "source": [
    "# Building noisy circuit circuits\n",
    "\n",
    "We can use these tools to build noisy versions of quantum circuits for simulation"
   ]
  },
  {
   "cell_type": "markdown",
   "metadata": {
    "slideshow": {
     "slide_type": "subslide"
    }
   },
   "source": [
    "### Example: noisy GHZ circuit"
   ]
  },
  {
   "cell_type": "code",
   "execution_count": 69,
   "metadata": {},
   "outputs": [],
   "source": [
    "def ghz_circuit_noise(num_qubits, error_h=None, error_cx=None):\n",
    "    \"\"\"Generate a noisy GHZ preparation circuit\"\"\"\n",
    "    from qiskit.extensions import HGate, CXGate\n",
    "\n",
    "    # Noisy H-gate\n",
    "    if error_h is None:\n",
    "        h_gate = HGate()\n",
    "    else:\n",
    "        h_gate = qiskit.QuantumCircuit(1, name='h_noise')\n",
    "        h_gate.append(HGate(), [0])\n",
    "        h_gate.append(error_h, [0])\n",
    "        h_gate = h_gate.to_instruction()\n",
    "\n",
    "    # Noisy CX-gate\n",
    "    if error_cx is None:\n",
    "        cx_gate = CXGate()\n",
    "    else:\n",
    "        cx_gate = qiskit.QuantumCircuit(2, name='cx_noise')\n",
    "        cx_gate.append(CXGate(), [0, 1])\n",
    "        cx_gate.append(error_cx, [0, 1])\n",
    "        cx_gate = cx_gate.to_instruction()\n",
    "        \n",
    "    # Make noisy circuit\n",
    "    circ = qiskit.QuantumCircuit(num_qubits)\n",
    "    circ.append(h_gate, [0])\n",
    "    for j in range(1, num_qubits):\n",
    "        circ.append(cx_gate, [0, j])\n",
    "    return circ\n",
    "    "
   ]
  },
  {
   "cell_type": "markdown",
   "metadata": {
    "slideshow": {
     "slide_type": "subslide"
    }
   },
   "source": [
    "### Construct a bit-flip error model\n",
    "\n",
    "Now we build a simple error model. It will contain:\n",
    "* A bit-flip error with probability $p$ after the H gate.\n",
    "* bit-flip errors with probability $p$ on each qubit after a CX gate."
   ]
  },
  {
   "cell_type": "code",
   "execution_count": 71,
   "metadata": {
    "slideshow": {
     "slide_type": "subslide"
    }
   },
   "outputs": [],
   "source": [
    "# Error parameters\n",
    "I = qi.Operator.from_label('I')\n",
    "X = qi.Operator.from_label('X')\n",
    "p_error = 0.1\n",
    "\n",
    "# H error term\n",
    "chan1 = (1 - p_error) * qi.SuperOp(I) + p_error * qi.SuperOp(X)\n",
    "\n",
    "# CX error term\n",
    "chan2 = chan1.tensor(chan1)"
   ]
  },
  {
   "cell_type": "code",
   "execution_count": 72,
   "metadata": {
    "slideshow": {
     "slide_type": "subslide"
    }
   },
   "outputs": [
    {
     "data": {
      "text/html": [
       "<pre style=\"word-wrap: normal;white-space: pre;background: #fff0;line-height: 1.1;font-family: &quot;Courier New&quot;,Courier,monospace\">     ┌─────────┐┌───────────┐┌───────────┐\n",
       "q_0: ┤ H_noise ├┤0          ├┤0          ├\n",
       "     └─────────┘│  Cx_noise ││           │\n",
       "q_1: ───────────┤1          ├┤  Cx_noise ├\n",
       "                └───────────┘│           │\n",
       "q_2: ────────────────────────┤1          ├\n",
       "                             └───────────┘</pre>"
      ],
      "text/plain": [
       "     ┌─────────┐┌───────────┐┌───────────┐\n",
       "q_0: ┤ H_noise ├┤0          ├┤0          ├\n",
       "     └─────────┘│  Cx_noise ││           │\n",
       "q_1: ───────────┤1          ├┤  Cx_noise ├\n",
       "                └───────────┘│           │\n",
       "q_2: ────────────────────────┤1          ├\n",
       "                             └───────────┘"
      ]
     },
     "execution_count": 72,
     "metadata": {},
     "output_type": "execute_result"
    }
   ],
   "source": [
    "circ_noise = ghz_circuit_noise(3, error_h=chan1, error_cx=chan2)\n",
    "circ_noise.draw()"
   ]
  },
  {
   "cell_type": "markdown",
   "metadata": {
    "slideshow": {
     "slide_type": "subslide"
    }
   },
   "source": [
    "### Transpile the noisy circuit\n",
    "\n",
    "Now we transpile the noisy circuit to see the original gates combined with the noise terms"
   ]
  },
  {
   "cell_type": "code",
   "execution_count": 73,
   "metadata": {
    "slideshow": {
     "slide_type": "fragment"
    }
   },
   "outputs": [
    {
     "data": {
      "text/html": [
       "<pre style=\"word-wrap: normal;white-space: pre;background: #fff0;line-height: 1.1;font-family: &quot;Courier New&quot;,Courier,monospace\">     ┌───┐┌───────┐     ┌────────┐     ┌────────┐\n",
       "q_0: ┤ H ├┤ Kraus ├──■──┤0       ├──■──┤0       ├\n",
       "     └───┘└───────┘┌─┴─┐│  Kraus │  │  │        │\n",
       "q_1: ──────────────┤ X ├┤1       ├──┼──┤  Kraus ├\n",
       "                   └───┘└────────┘┌─┴─┐│        │\n",
       "q_2: ─────────────────────────────┤ X ├┤1       ├\n",
       "                                  └───┘└────────┘</pre>"
      ],
      "text/plain": [
       "     ┌───┐┌───────┐     ┌────────┐     ┌────────┐\n",
       "q_0: ┤ H ├┤ Kraus ├──■──┤0       ├──■──┤0       ├\n",
       "     └───┘└───────┘┌─┴─┐│  Kraus │  │  │        │\n",
       "q_1: ──────────────┤ X ├┤1       ├──┼──┤  Kraus ├\n",
       "                   └───┘└────────┘┌─┴─┐│        │\n",
       "q_2: ─────────────────────────────┤ X ├┤1       ├\n",
       "                                  └───┘└────────┘"
      ]
     },
     "execution_count": 73,
     "metadata": {},
     "output_type": "execute_result"
    }
   ],
   "source": [
    "qiskit.transpile(circ_noise, basis_gates=['h', 'cx', 'kraus']).draw()"
   ]
  },
  {
   "cell_type": "markdown",
   "metadata": {
    "slideshow": {
     "slide_type": "subslide"
    }
   },
   "source": [
    "### Simulate the noisy output density matrix\n",
    "\n",
    "Now we can use the `DensityMatrix` class to simulate the noisy output density matrix"
   ]
  },
  {
   "cell_type": "code",
   "execution_count": 60,
   "metadata": {
    "slideshow": {
     "slide_type": "fragment"
    }
   },
   "outputs": [
    {
     "data": {
      "image/png": "[encoded data removed]",
      "text/plain": [
       "<Figure size 1080x360 with 2 Axes>"
      ]
     },
     "execution_count": 60,
     "metadata": {},
     "output_type": "execute_result"
    }
   ],
   "source": [
    "rho = qi.DensityMatrix.from_instruction(circ_noise)\n",
    "plot_state_city(rho.data)"
   ]
  },
  {
   "cell_type": "markdown",
   "metadata": {
    "slideshow": {
     "slide_type": "subslide"
    }
   },
   "source": [
    "## Using Qiskit Aer noise tools\n",
    "\n",
    "* There are a lot of useful tools for constructing quantum channels and noise models for simulation in the Qiskit Aer [noise module](https://qiskit.org/documentation/apidoc/aer_noise.html)\n",
    "\n",
    "* These can be used with `QuantumCircuits` and the operator classes as well!"
   ]
  },
  {
   "cell_type": "code",
   "execution_count": 61,
   "metadata": {
    "slideshow": {
     "slide_type": "fragment"
    }
   },
   "outputs": [
    {
     "data": {
      "text/plain": [
       "Kraus([[[1.        +0.j, 0.        +0.j],\n",
       "        [0.        +0.j, 0.9486833 +0.j]],\n",
       "\n",
       "       [[0.        +0.j, 0.31622777+0.j],\n",
       "        [0.        +0.j, 0.        +0.j]]],\n",
       "      input_dims=(2,), output_dims=(2,))"
      ]
     },
     "execution_count": 61,
     "metadata": {},
     "output_type": "execute_result"
    }
   ],
   "source": [
    "from qiskit.providers.aer import noise\n",
    "error1 = noise.amplitude_damping_error(0.1)\n",
    "\n",
    "qi.Kraus(error1)"
   ]
  },
  {
   "cell_type": "markdown",
   "metadata": {
    "slideshow": {
     "slide_type": "slide"
    }
   },
   "source": [
    "# Simulating Measurements and Probabilities\n",
    "\n",
    "We can also use the `Statevector` and `DensityMatrix` classes to compute measurement probabilities and simulate measurement outcomes.\n",
    "\n",
    "* This uses the [sample_counts](https://qiskit.org/documentation/stubs/qiskit.quantum_info.Statevector.sample_counts.html) function"
   ]
  },
  {
   "cell_type": "markdown",
   "metadata": {
    "slideshow": {
     "slide_type": "subslide"
    }
   },
   "source": [
    "### Example: Ideal and noisy 5-qubit GHZ circuit"
   ]
  },
  {
   "cell_type": "code",
   "execution_count": 74,
   "metadata": {
    "slideshow": {
     "slide_type": "-"
    }
   },
   "outputs": [],
   "source": [
    "# Ideal circuit\n",
    "circ = ghz_circuit(5)\n",
    "\n",
    "# Noisy Circuit\n",
    "noise_circ = ghz_circuit_noise(5, chan1, chan2)"
   ]
  },
  {
   "cell_type": "markdown",
   "metadata": {
    "slideshow": {
     "slide_type": "subslide"
    }
   },
   "source": [
    "### Ideal circuit measurements"
   ]
  },
  {
   "cell_type": "code",
   "execution_count": 75,
   "metadata": {},
   "outputs": [
    {
     "data": {
      "text/plain": [
       "{'00000': 492, '11111': 508}"
      ]
     },
     "execution_count": 75,
     "metadata": {},
     "output_type": "execute_result"
    }
   ],
   "source": [
    "psi = qi.Statevector.from_instruction(circ)\n",
    "counts = psi.sample_counts(1000)\n",
    "counts"
   ]
  },
  {
   "cell_type": "code",
   "execution_count": 76,
   "metadata": {
    "slideshow": {
     "slide_type": "fragment"
    }
   },
   "outputs": [
    {
     "data": {
      "image/png": "[encoded data removed]",
      "text/plain": [
       "<Figure size 504x360 with 1 Axes>"
      ]
     },
     "execution_count": 76,
     "metadata": {},
     "output_type": "execute_result"
    }
   ],
   "source": [
    "plot_histogram(counts)"
   ]
  },
  {
   "cell_type": "markdown",
   "metadata": {
    "slideshow": {
     "slide_type": "subslide"
    }
   },
   "source": [
    "### Noisy circuit measurements"
   ]
  },
  {
   "cell_type": "code",
   "execution_count": 78,
   "metadata": {},
   "outputs": [],
   "source": [
    "rho = qi.DensityMatrix.from_instruction(noise_circ)\n",
    "\n",
    "noise_counts = rho.sample_counts(1000)"
   ]
  },
  {
   "cell_type": "code",
   "execution_count": 66,
   "metadata": {
    "slideshow": {
     "slide_type": "fragment"
    }
   },
   "outputs": [
    {
     "data": {
      "image/png": "[encoded data removed]",
      "text/plain": [
       "<Figure size 504x360 with 1 Axes>"
      ]
     },
     "execution_count": 66,
     "metadata": {},
     "output_type": "execute_result"
    }
   ],
   "source": [
    "plot_histogram(noise_counts)"
   ]
  },
  {
   "cell_type": "markdown",
   "metadata": {
    "slideshow": {
     "slide_type": "subslide"
    }
   },
   "source": [
    "## Probabilities\n",
    "\n",
    "If we want exact measurement *probabilites* instead of sampled counts we can use the [probabilities](https://qiskit.org/documentation/stubs/qiskit.quantum_info.Statevector.probabilities.html) method."
   ]
  },
  {
   "cell_type": "markdown",
   "metadata": {
    "slideshow": {
     "slide_type": "fragment"
    }
   },
   "source": [
    "* *Note*: both `sample_counts` and `probabilities` also work for marginal counts or probabilities on subsets of qubits"
   ]
  },
  {
   "cell_type": "markdown",
   "metadata": {
    "slideshow": {
     "slide_type": "subslide"
    }
   },
   "source": [
    "### Example: probabilities for qubits [0, 1]\n",
    "\n",
    "Lets look at the probabilities for just measuring qubits 0 and 1 in the 5-qubit GHZ state"
   ]
  },
  {
   "cell_type": "markdown",
   "metadata": {
    "slideshow": {
     "slide_type": "fragment"
    }
   },
   "source": [
    "### Ideal circuit probabilities"
   ]
  },
  {
   "cell_type": "code",
   "execution_count": 67,
   "metadata": {},
   "outputs": [
    {
     "data": {
      "text/plain": [
       "array([0.5, 0. , 0. , 0.5])"
      ]
     },
     "execution_count": 67,
     "metadata": {},
     "output_type": "execute_result"
    }
   ],
   "source": [
    "psi.probabilities([0, 1])"
   ]
  },
  {
   "cell_type": "markdown",
   "metadata": {
    "slideshow": {
     "slide_type": "fragment"
    }
   },
   "source": [
    "### Noisy circuit probabilities"
   ]
  },
  {
   "cell_type": "code",
   "execution_count": 68,
   "metadata": {},
   "outputs": [
    {
     "data": {
      "text/plain": [
       "array([0.378, 0.122, 0.122, 0.378])"
      ]
     },
     "execution_count": 68,
     "metadata": {},
     "output_type": "execute_result"
    }
   ],
   "source": [
    "rho.probabilities([0, 1])"
   ]
  },
  {
   "cell_type": "markdown",
   "metadata": {
    "slideshow": {
     "slide_type": "subslide"
    }
   },
   "source": [
    "## So when do we use HPC simulators like Qiskit Aer?\n",
    "\n",
    "* In most cases using these sort of simulators when you want the final statevector a unitary defeats the point"
   ]
  },
  {
   "cell_type": "markdown",
   "metadata": {
    "slideshow": {
     "slide_type": "fragment"
    }
   },
   "source": [
    "* Use them when you are simulating an *experiment* with *measurements*\n",
    "  * Expensive simulation that requires a lot of memory for storing the state\n",
    "  * Final data (ie. counts) requires very littly memory\n"
   ]
  },
  {
   "cell_type": "markdown",
   "metadata": {
    "slideshow": {
     "slide_type": "subslide"
    }
   },
   "source": [
    "\n",
    "![title](benchmarks/t_sim_counts.png)"
   ]
  },
  {
   "cell_type": "markdown",
   "metadata": {
    "slideshow": {
     "slide_type": "subslide"
    }
   },
   "source": [
    "![Circuit Simulation](figures/circuit_experiments.png)"
   ]
  },
  {
   "cell_type": "markdown",
   "metadata": {
    "slideshow": {
     "slide_type": "slide"
    }
   },
   "source": [
    "# Simulating circuits summary\n",
    "\n",
    "\n",
    "* `Statevector`, `DensityMatrix`, `Clifford`, `Operator`, `SuperOp` all have different scaling\n",
    "* Now that you're better informed you can use the right tool for the job!\n",
    "\n",
    "| Class |  Allowed Circuit Types |Simulation Time | Simulation Memory |\n",
    "| --- | --- | --- | --- |\n",
    "| [Clifford](https://qiskit.org/documentation/stubs/qiskit.quantum_info.Clifford.html) | Clifford circuits | $O(N)$ | $O(N^2)$ |\n",
    "| [Statevector](https://qiskit.org/documentation/stubs/qiskit.quantum_info.Statevector.html) | Unitary circuits | $O(2^N)$ | $O(2^N)$ |\n",
    "| [Operator](https://qiskit.org/documentation/stubs/qiskit.quantum_info.Operator.html) | Unitary circuits | $O(4^{N})$ | $O(4^{N})$ |\n",
    "| [DensityMatrix](https://qiskit.org/documentation/stubs/qiskit.quantum_info.DensityMatrix.html) | Quantum channel (non-unitary) circuits | $O(4^{N})$ | $O(4^{N})$ |\n",
    "| [SuperOp](https://qiskit.org/documentation/stubs/qiskit.quantum_info.SuperOp.html) | Quantum channel (non-unitary) circuits |$O(16^{N})$ | $O(16^{N})$ |"
   ]
  },
  {
   "cell_type": "markdown",
   "metadata": {
    "slideshow": {
     "slide_type": "subslide"
    }
   },
   "source": [
    "![Circuit Simulation](benchmarks/t_sim.png)"
   ]
  },
  {
   "cell_type": "markdown",
   "metadata": {
    "slideshow": {
     "slide_type": "subslide"
    }
   },
   "source": [
    "# Thank you!"
   ]
  }
 ],
 "metadata": {
  "celltoolbar": "Slideshow",
  "kernelspec": {
   "display_name": "Python 3",
   "language": "python",
   "name": "python3"
  },
  "language_info": {
   "codemirror_mode": {
    "name": "ipython",
    "version": 3
   },
   "file_extension": ".py",
   "mimetype": "text/x-python",
   "name": "python",
   "nbconvert_exporter": "python",
   "pygments_lexer": "ipython3",
   "version": "3.7.6"
  }
 },
 "nbformat": 4,
 "nbformat_minor": 2
}
